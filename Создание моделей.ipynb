{
 "cells": [
  {
   "cell_type": "markdown",
   "id": "bab06d35",
   "metadata": {},
   "source": [
    "# Demand Restoration"
   ]
  },
  {
   "cell_type": "code",
   "execution_count": 837,
   "id": "21630568",
   "metadata": {
    "ExecuteTime": {
     "end_time": "2023-05-31T15:56:49.342170Z",
     "start_time": "2023-05-31T15:56:49.331743Z"
    }
   },
   "outputs": [],
   "source": [
    "import math\n",
    "import random\n",
    "import numpy as np\n",
    "import pandas as pd\n",
    "\n",
    "\n",
    "import optuna\n",
    "import xgboost as xgb\n",
    "from sklearn.compose import ColumnTransformer\n",
    "from sklearn.linear_model import Ridge\n",
    "from sklearn.metrics import make_scorer, mean_squared_error\n",
    "from sklearn.model_selection import cross_val_score, train_test_split\n",
    "from sklearn.pipeline import Pipeline\n",
    "from sklearn.preprocessing import OneHotEncoder, StandardScaler\n",
    "from sklearn.metrics import mean_squared_error\n",
    "import matplotlib.pyplot as plt\n",
    "from sklearn.metrics import r2_score,mean_absolute_error\n",
    "from sklearn.cluster import DBSCAN\n",
    "from sklearn.model_selection import GridSearchCV\n",
    "from sklearn.metrics import accuracy_score\n",
    "\n",
    "\n",
    "\n",
    "from sklearn.datasets import make_blobs\n",
    "import warnings\n",
    "warnings.filterwarnings('ignore')"
   ]
  },
  {
   "cell_type": "markdown",
   "id": "202aa834",
   "metadata": {},
   "source": [
    "## Загрузка данных"
   ]
  },
  {
   "cell_type": "code",
   "execution_count": 838,
   "id": "fdfce30b",
   "metadata": {
    "ExecuteTime": {
     "end_time": "2023-05-31T15:56:49.739336Z",
     "start_time": "2023-05-31T15:56:49.661817Z"
    }
   },
   "outputs": [],
   "source": [
    "df = pd.read_csv('resultDataFeatured.csv')\n",
    "pca_df = pd.read_csv('pca_resultDataFeatured.csv')"
   ]
  },
  {
   "cell_type": "code",
   "execution_count": 839,
   "id": "bfbd9091",
   "metadata": {
    "ExecuteTime": {
     "end_time": "2023-05-31T15:56:50.598204Z",
     "start_time": "2023-05-31T15:56:50.571589Z"
    }
   },
   "outputs": [
    {
     "data": {
      "text/html": [
       "<div>\n",
       "<style scoped>\n",
       "    .dataframe tbody tr th:only-of-type {\n",
       "        vertical-align: middle;\n",
       "    }\n",
       "\n",
       "    .dataframe tbody tr th {\n",
       "        vertical-align: top;\n",
       "    }\n",
       "\n",
       "    .dataframe thead th {\n",
       "        text-align: right;\n",
       "    }\n",
       "</style>\n",
       "<table border=\"1\" class=\"dataframe\">\n",
       "  <thead>\n",
       "    <tr style=\"text-align: right;\">\n",
       "      <th></th>\n",
       "      <th>product_id</th>\n",
       "      <th>location_id</th>\n",
       "      <th>date</th>\n",
       "      <th>sales_qty</th>\n",
       "      <th>stock_qty</th>\n",
       "      <th>cost</th>\n",
       "      <th>promo</th>\n",
       "      <th>Demand</th>\n",
       "      <th>Deficit</th>\n",
       "      <th>NoFilter</th>\n",
       "      <th>...</th>\n",
       "      <th>NoFilter_lagforward28d_w28_nanmean</th>\n",
       "      <th>NoFilter_lagforward28d_w28_nanmedian</th>\n",
       "      <th>NoFilter_lagforward56d_alpha7d</th>\n",
       "      <th>NoFilter_lagforward56d_w14_nanmedian</th>\n",
       "      <th>NoFilter_lagforward56d_w56_nanmean</th>\n",
       "      <th>Promo_lagback7d_w56_pctl90</th>\n",
       "      <th>Promo_lagback28d_w14_nanmedian</th>\n",
       "      <th>Promo_lagback28d_w56_pctl90</th>\n",
       "      <th>Promo_lagback56d_w56_pctl90</th>\n",
       "      <th>Promo_lagforward56d_w14_nanmedian</th>\n",
       "    </tr>\n",
       "  </thead>\n",
       "  <tbody>\n",
       "    <tr>\n",
       "      <th>0</th>\n",
       "      <td>9000400501</td>\n",
       "      <td>5637149154</td>\n",
       "      <td>2018-04-05</td>\n",
       "      <td>1.0</td>\n",
       "      <td>246</td>\n",
       "      <td>4.43</td>\n",
       "      <td>0</td>\n",
       "      <td>1.0</td>\n",
       "      <td>0</td>\n",
       "      <td>1</td>\n",
       "      <td>...</td>\n",
       "      <td>4.695652</td>\n",
       "      <td>4.0</td>\n",
       "      <td>3.830250</td>\n",
       "      <td>2.0</td>\n",
       "      <td>5.500000</td>\n",
       "      <td>0.0</td>\n",
       "      <td>0.0</td>\n",
       "      <td>0.0</td>\n",
       "      <td>0.0</td>\n",
       "      <td>2.0</td>\n",
       "    </tr>\n",
       "    <tr>\n",
       "      <th>1</th>\n",
       "      <td>9000400501</td>\n",
       "      <td>5637145510</td>\n",
       "      <td>2018-04-11</td>\n",
       "      <td>1.0</td>\n",
       "      <td>293</td>\n",
       "      <td>4.43</td>\n",
       "      <td>0</td>\n",
       "      <td>1.0</td>\n",
       "      <td>0</td>\n",
       "      <td>1</td>\n",
       "      <td>...</td>\n",
       "      <td>7.840000</td>\n",
       "      <td>6.0</td>\n",
       "      <td>2.233848</td>\n",
       "      <td>2.0</td>\n",
       "      <td>5.400000</td>\n",
       "      <td>0.0</td>\n",
       "      <td>0.0</td>\n",
       "      <td>0.0</td>\n",
       "      <td>0.0</td>\n",
       "      <td>2.0</td>\n",
       "    </tr>\n",
       "    <tr>\n",
       "      <th>2</th>\n",
       "      <td>9000400501</td>\n",
       "      <td>5637149154</td>\n",
       "      <td>2018-04-11</td>\n",
       "      <td>1.0</td>\n",
       "      <td>245</td>\n",
       "      <td>4.43</td>\n",
       "      <td>0</td>\n",
       "      <td>1.0</td>\n",
       "      <td>0</td>\n",
       "      <td>1</td>\n",
       "      <td>...</td>\n",
       "      <td>7.840000</td>\n",
       "      <td>6.0</td>\n",
       "      <td>2.233848</td>\n",
       "      <td>2.0</td>\n",
       "      <td>5.400000</td>\n",
       "      <td>0.0</td>\n",
       "      <td>0.0</td>\n",
       "      <td>0.0</td>\n",
       "      <td>0.0</td>\n",
       "      <td>2.0</td>\n",
       "    </tr>\n",
       "    <tr>\n",
       "      <th>3</th>\n",
       "      <td>9000400501</td>\n",
       "      <td>5637149154</td>\n",
       "      <td>2018-04-13</td>\n",
       "      <td>1.0</td>\n",
       "      <td>244</td>\n",
       "      <td>4.43</td>\n",
       "      <td>0</td>\n",
       "      <td>1.0</td>\n",
       "      <td>0</td>\n",
       "      <td>1</td>\n",
       "      <td>...</td>\n",
       "      <td>7.692308</td>\n",
       "      <td>6.0</td>\n",
       "      <td>2.937181</td>\n",
       "      <td>2.5</td>\n",
       "      <td>5.306122</td>\n",
       "      <td>0.0</td>\n",
       "      <td>0.0</td>\n",
       "      <td>0.0</td>\n",
       "      <td>0.0</td>\n",
       "      <td>2.5</td>\n",
       "    </tr>\n",
       "    <tr>\n",
       "      <th>4</th>\n",
       "      <td>9000400501</td>\n",
       "      <td>5637149154</td>\n",
       "      <td>2018-04-15</td>\n",
       "      <td>1.0</td>\n",
       "      <td>243</td>\n",
       "      <td>4.43</td>\n",
       "      <td>0</td>\n",
       "      <td>1.0</td>\n",
       "      <td>0</td>\n",
       "      <td>1</td>\n",
       "      <td>...</td>\n",
       "      <td>7.615385</td>\n",
       "      <td>6.0</td>\n",
       "      <td>2.965944</td>\n",
       "      <td>2.5</td>\n",
       "      <td>5.122449</td>\n",
       "      <td>0.0</td>\n",
       "      <td>0.0</td>\n",
       "      <td>0.0</td>\n",
       "      <td>0.0</td>\n",
       "      <td>2.5</td>\n",
       "    </tr>\n",
       "  </tbody>\n",
       "</table>\n",
       "<p>5 rows × 50 columns</p>\n",
       "</div>"
      ],
      "text/plain": [
       "   product_id  location_id        date  sales_qty  stock_qty  cost  promo  \\\n",
       "0  9000400501   5637149154  2018-04-05        1.0        246  4.43      0   \n",
       "1  9000400501   5637145510  2018-04-11        1.0        293  4.43      0   \n",
       "2  9000400501   5637149154  2018-04-11        1.0        245  4.43      0   \n",
       "3  9000400501   5637149154  2018-04-13        1.0        244  4.43      0   \n",
       "4  9000400501   5637149154  2018-04-15        1.0        243  4.43      0   \n",
       "\n",
       "   Demand  Deficit  NoFilter  ...  NoFilter_lagforward28d_w28_nanmean  \\\n",
       "0     1.0        0         1  ...                            4.695652   \n",
       "1     1.0        0         1  ...                            7.840000   \n",
       "2     1.0        0         1  ...                            7.840000   \n",
       "3     1.0        0         1  ...                            7.692308   \n",
       "4     1.0        0         1  ...                            7.615385   \n",
       "\n",
       "   NoFilter_lagforward28d_w28_nanmedian  NoFilter_lagforward56d_alpha7d  \\\n",
       "0                                   4.0                        3.830250   \n",
       "1                                   6.0                        2.233848   \n",
       "2                                   6.0                        2.233848   \n",
       "3                                   6.0                        2.937181   \n",
       "4                                   6.0                        2.965944   \n",
       "\n",
       "   NoFilter_lagforward56d_w14_nanmedian  NoFilter_lagforward56d_w56_nanmean  \\\n",
       "0                                   2.0                            5.500000   \n",
       "1                                   2.0                            5.400000   \n",
       "2                                   2.0                            5.400000   \n",
       "3                                   2.5                            5.306122   \n",
       "4                                   2.5                            5.122449   \n",
       "\n",
       "   Promo_lagback7d_w56_pctl90  Promo_lagback28d_w14_nanmedian  \\\n",
       "0                         0.0                             0.0   \n",
       "1                         0.0                             0.0   \n",
       "2                         0.0                             0.0   \n",
       "3                         0.0                             0.0   \n",
       "4                         0.0                             0.0   \n",
       "\n",
       "   Promo_lagback28d_w56_pctl90  Promo_lagback56d_w56_pctl90  \\\n",
       "0                          0.0                          0.0   \n",
       "1                          0.0                          0.0   \n",
       "2                          0.0                          0.0   \n",
       "3                          0.0                          0.0   \n",
       "4                          0.0                          0.0   \n",
       "\n",
       "   Promo_lagforward56d_w14_nanmedian  \n",
       "0                                2.0  \n",
       "1                                2.0  \n",
       "2                                2.0  \n",
       "3                                2.5  \n",
       "4                                2.5  \n",
       "\n",
       "[5 rows x 50 columns]"
      ]
     },
     "execution_count": 839,
     "metadata": {},
     "output_type": "execute_result"
    }
   ],
   "source": [
    "df.head()"
   ]
  },
  {
   "cell_type": "markdown",
   "id": "4e9eff82",
   "metadata": {},
   "source": [
    "## Метрики оценки"
   ]
  },
  {
   "cell_type": "code",
   "execution_count": 865,
   "id": "b20f3fc3",
   "metadata": {
    "ExecuteTime": {
     "end_time": "2023-05-31T16:07:58.493098Z",
     "start_time": "2023-05-31T16:07:58.477091Z"
    }
   },
   "outputs": [],
   "source": [
    "def calculate_metrics(y_test, y_pred):\n",
    "    # Вычисление метрики MAE\n",
    "    mae = mean_absolute_error(y_test, y_pred)\n",
    "    #print('MAE: %.3f' % mae)\n",
    "    \n",
    "    # Вычисление метрики R2\n",
    "    r2 = r2_score(y_test, y_pred)\n",
    "    #print('R2: %.3f' % r2)\n",
    "    \n",
    "    # Вычисление метрики MAPE\n",
    "    y_test, y_pred = np.array(y_test), np.array(y_pred)\n",
    "    mape = np.mean(np.abs((y_test - y_pred) / y_test)) * 100.0\n",
    "    #print('MAPE: %.3f' % mape)\n",
    "    \n",
    "    # Вычисление метрики sMAPE\n",
    "    smape = np.mean(2.0 * np.abs(y_pred - y_test) / (np.abs(y_test) + np.abs(y_pred))) * 100.0\n",
    "    #print('sMAPE: %.3f' % smape)\n",
    "    \n",
    "    # Вычисление метрики neg_root_mean_squared_error\n",
    "    rmse = np.sqrt(mean_squared_error(y_test, y_pred))\n",
    "    #print('RMSE: %.3f' % rmse)\n",
    "    \n",
    "    \n",
    "    \n",
    "\n",
    "    weights = list(range(1, len(y_test) + 1))\n",
    "    denominator = np.dot(np.abs(y_test), weights)\n",
    "    numerator = np.dot(np.abs(y_test - y_pred), weights)\n",
    "    wape = (numerator / denominator) * 100.0\n",
    "    \n",
    "    \n",
    "    \n",
    "    std_p = np.std(y_pred)\n",
    "    std_t = np.std(y_test)\n",
    "    \n",
    "    mean_p = np.mean(y_pred)\n",
    "    mean_t = np.mean(y_test)\n",
    "    \n",
    "    #print('std_predict: %.3f & std_tesd: %.3f' % (std_p, std_t))\n",
    "    #print('mean_predict: %.3f & mean_tesd: %.3f' % (mean_p, mean_t))\n",
    "    \n",
    "    \n",
    "    return mae, r2, mape, smape, rmse, wape\n",
    "    "
   ]
  },
  {
   "cell_type": "code",
   "execution_count": 864,
   "id": "c63e8cce",
   "metadata": {
    "ExecuteTime": {
     "end_time": "2023-05-31T16:07:12.565201Z",
     "start_time": "2023-05-31T16:07:12.553018Z"
    }
   },
   "outputs": [
    {
     "data": {
      "text/plain": [
       "[1, 2, 3]"
      ]
     },
     "execution_count": 864,
     "metadata": {},
     "output_type": "execute_result"
    }
   ],
   "source": [
    "list(range(1, len([1,2,3])+1))"
   ]
  },
  {
   "cell_type": "code",
   "execution_count": 841,
   "id": "23d56c4a",
   "metadata": {
    "ExecuteTime": {
     "end_time": "2023-05-31T15:56:52.815696Z",
     "start_time": "2023-05-31T15:56:52.808257Z"
    }
   },
   "outputs": [],
   "source": [
    "def my_cross_val_score(model, X, y, cv=5):\n",
    "    scores = (-cross_val_score(model, X, y, cv=cv, scoring='neg_root_mean_squared_error')).sum() / 5\n",
    "    return scores.mean()\n",
    "    return \"Mean score of %0.2f SMAPE\" % (scores.mean())"
   ]
  },
  {
   "cell_type": "markdown",
   "id": "f09f0965",
   "metadata": {},
   "source": [
    "## Тренировочная выборка"
   ]
  },
  {
   "cell_type": "code",
   "execution_count": 842,
   "id": "8a6b6413",
   "metadata": {
    "ExecuteTime": {
     "end_time": "2023-05-31T15:56:53.880800Z",
     "start_time": "2023-05-31T15:56:53.872154Z"
    }
   },
   "outputs": [],
   "source": [
    "df_train_demand = df[df.Deficit == 0]"
   ]
  },
  {
   "cell_type": "code",
   "execution_count": 843,
   "id": "19bf4e3e",
   "metadata": {
    "ExecuteTime": {
     "end_time": "2023-05-31T15:56:54.062911Z",
     "start_time": "2023-05-31T15:56:54.049612Z"
    }
   },
   "outputs": [],
   "source": [
    "y = df_train_demand[\"Demand\"]\n",
    "X = df_train_demand.drop(columns=[\"Demand\", 'date', 'sales_qty', 'stock_qty', 'Promo',\n",
    "                                  'Deficit', 'NoFilter', 'NoneDeficit', 'product_id', 'location_id'], axis=1)\n",
    "\n",
    "\n",
    "\n",
    "X_train, X_test, y_train, y_test = train_test_split(X, y, test_size=0.2, random_state=808)"
   ]
  },
  {
   "cell_type": "code",
   "execution_count": 844,
   "id": "a4341d48",
   "metadata": {
    "ExecuteTime": {
     "end_time": "2023-05-31T15:56:54.187095Z",
     "start_time": "2023-05-31T15:56:54.180765Z"
    }
   },
   "outputs": [],
   "source": [
    "lag_features = list(X.columns)[6:]"
   ]
  },
  {
   "cell_type": "code",
   "execution_count": 845,
   "id": "20809ccb",
   "metadata": {
    "ExecuteTime": {
     "end_time": "2023-05-31T15:56:54.340999Z",
     "start_time": "2023-05-31T15:56:54.334177Z"
    },
    "code_folding": [],
    "tags": [
     "hide_code"
    ]
   },
   "outputs": [],
   "source": [
    "numeric = [\"cost\"] + lag_features\n",
    "\n",
    "categorical = [\n",
    "    \"day\",\n",
    "    \"weekday\",\n",
    "    \"month\",\n",
    "    \"year\",\n",
    "    'promo'\n",
    "    \n",
    "]"
   ]
  },
  {
   "cell_type": "code",
   "execution_count": 846,
   "id": "77fbc73a",
   "metadata": {
    "ExecuteTime": {
     "end_time": "2023-05-31T15:56:54.480028Z",
     "start_time": "2023-05-31T15:56:54.472858Z"
    }
   },
   "outputs": [],
   "source": [
    "column_transformer = ColumnTransformer(\n",
    "    [\n",
    "        (\"ohe\", OneHotEncoder(handle_unknown=\"ignore\"), categorical),\n",
    "        (\"scaling\", StandardScaler(), numeric),\n",
    "    ]\n",
    ")"
   ]
  },
  {
   "cell_type": "markdown",
   "id": "93ffb6e3",
   "metadata": {
    "ExecuteTime": {
     "end_time": "2023-05-14T15:12:59.699729Z",
     "start_time": "2023-05-14T15:12:59.689251Z"
    }
   },
   "source": [
    "### Выбор гиперпараметров"
   ]
  },
  {
   "cell_type": "code",
   "execution_count": 847,
   "id": "ebbcdffd",
   "metadata": {
    "ExecuteTime": {
     "end_time": "2023-05-31T15:56:55.344632Z",
     "start_time": "2023-05-31T15:56:55.315199Z"
    },
    "code_folding": [
     0
    ]
   },
   "outputs": [],
   "source": [
    "def objective(trial):\n",
    "    y = df_train_demand[\"Demand\"]\n",
    "    X = df_train_demand.drop(columns=[\"Demand\", 'date', 'sales_qty', 'stock_qty', 'Promo',\n",
    "                                  'Deficit', 'NoFilter', 'NoneDeficit', 'product_id', 'location_id'], axis=1)\n",
    "    \n",
    "    \n",
    "\n",
    "    pipeline = Pipeline(\n",
    "        steps=[\n",
    "            (\"ohe_and_scaling\", column_transformer),\n",
    "        ]\n",
    "    )\n",
    "\n",
    "    X = pipeline.fit_transform(X, y)\n",
    "    \n",
    "\n",
    "    train_x, test_x, train_y, test_y = train_test_split(\n",
    "        X, y, test_size=0.2, random_state=808\n",
    "    )\n",
    "\n",
    "    \n",
    "\n",
    "    param = {\n",
    "        \"lambda\": trial.suggest_loguniform(\"lambda\", 1e-3, 10.0),\n",
    "        \"alpha\": trial.suggest_loguniform(\"alpha\", 1e-3, 10.0),\n",
    "        \"colsample_bytree\": trial.suggest_categorical(\n",
    "            \"colsample_bytree\", [0.3, 0.4, 0.5, 0.6, 0.7, 0.8, 0.9, 1.0]\n",
    "        ),\n",
    "        \"subsample\": trial.suggest_categorical(\n",
    "            \"subsample\", [0.4, 0.5, 0.6, 0.7, 0.8, 1.0]\n",
    "        ),\n",
    "        \"learning_rate\": trial.suggest_categorical(\n",
    "            \"learning_rate\", [0.17, 0.2, 0.22, 0.26, 0.28, 0.31]\n",
    "        ),\n",
    "        \"n_estimators\": 4000,\n",
    "        \"max_depth\": trial.suggest_categorical(\"max_depth\", [3, 4, 5, 6]),\n",
    "        \"random_state\": trial.suggest_categorical(\n",
    "            \"random_state\", [24, 808, 2020]\n",
    "        ),\n",
    "        \"min_child_weight\": trial.suggest_int(\"min_child_weight\", 1, 300),\n",
    "    }\n",
    "    model = xgb.XGBRegressor(**param)\n",
    "    \n",
    "    model.fit(\n",
    "        train_x,\n",
    "        train_y,\n",
    "        eval_set=[(test_x, test_y)],\n",
    "        early_stopping_rounds=100,\n",
    "        verbose=False,\n",
    "    )\n",
    "    preds = model.predict(test_x)\n",
    "    smape_error = my_smape(preds, test_y)\n",
    "\n",
    "    return smape_error"
   ]
  },
  {
   "cell_type": "code",
   "execution_count": 849,
   "id": "c0d5ff40",
   "metadata": {
    "ExecuteTime": {
     "end_time": "2023-05-31T15:57:59.312792Z",
     "start_time": "2023-05-31T15:57:54.052238Z"
    },
    "scrolled": true
   },
   "outputs": [
    {
     "name": "stderr",
     "output_type": "stream",
     "text": [
      "\u001b[32m[I 2023-05-31 18:57:54,058]\u001b[0m A new study created in memory with name: no-name-ed930d6e-94c3-4a35-8a9b-403acf0022ac\u001b[0m\n",
      "\u001b[32m[I 2023-05-31 18:57:54,715]\u001b[0m Trial 0 finished with value: 62.41066665422864 and parameters: {'lambda': 0.009748622974324049, 'alpha': 0.004947866968390512, 'colsample_bytree': 0.6, 'subsample': 0.5, 'learning_rate': 0.22, 'max_depth': 3, 'random_state': 24, 'min_child_weight': 14}. Best is trial 0 with value: 62.41066665422864.\u001b[0m\n",
      "\u001b[32m[I 2023-05-31 18:57:55,555]\u001b[0m Trial 1 finished with value: 57.240876203319864 and parameters: {'lambda': 2.7984871951113304, 'alpha': 0.0015324033565578456, 'colsample_bytree': 0.9, 'subsample': 1.0, 'learning_rate': 0.31, 'max_depth': 5, 'random_state': 24, 'min_child_weight': 42}. Best is trial 1 with value: 57.240876203319864.\u001b[0m\n",
      "\u001b[32m[I 2023-05-31 18:57:56,052]\u001b[0m Trial 2 finished with value: 60.05550976498266 and parameters: {'lambda': 5.1971909601579, 'alpha': 0.4319836767563194, 'colsample_bytree': 1.0, 'subsample': 0.7, 'learning_rate': 0.2, 'max_depth': 4, 'random_state': 24, 'min_child_weight': 24}. Best is trial 1 with value: 57.240876203319864.\u001b[0m\n",
      "\u001b[32m[I 2023-05-31 18:57:58,111]\u001b[0m Trial 3 finished with value: 62.538825695284025 and parameters: {'lambda': 1.7423704253254046, 'alpha': 0.9960446846750856, 'colsample_bytree': 1.0, 'subsample': 1.0, 'learning_rate': 0.2, 'max_depth': 5, 'random_state': 2020, 'min_child_weight': 205}. Best is trial 1 with value: 57.240876203319864.\u001b[0m\n",
      "\u001b[32m[I 2023-05-31 18:57:59,310]\u001b[0m Trial 4 finished with value: 59.83552111374509 and parameters: {'lambda': 0.020952893198630796, 'alpha': 5.767371393769149, 'colsample_bytree': 0.7, 'subsample': 0.7, 'learning_rate': 0.17, 'max_depth': 4, 'random_state': 24, 'min_child_weight': 37}. Best is trial 1 with value: 57.240876203319864.\u001b[0m\n"
     ]
    },
    {
     "name": "stdout",
     "output_type": "stream",
     "text": [
      "Number of finished trials: 5\n",
      "Best trial: {'lambda': 2.7984871951113304, 'alpha': 0.0015324033565578456, 'colsample_bytree': 0.9, 'subsample': 1.0, 'learning_rate': 0.31, 'max_depth': 5, 'random_state': 24, 'min_child_weight': 42}\n"
     ]
    }
   ],
   "source": [
    "study = optuna.create_study(direction='minimize')\n",
    "study.optimize(objective, n_trials=5)\n",
    "print('Number of finished trials:', len(study.trials))\n",
    "print('Best trial:', study.best_trial.params)\n",
    "\n"
   ]
  },
  {
   "cell_type": "code",
   "execution_count": 876,
   "id": "a3c4ef76",
   "metadata": {
    "ExecuteTime": {
     "end_time": "2023-05-31T16:10:02.847382Z",
     "start_time": "2023-05-31T16:10:02.820028Z"
    },
    "code_folding": [
     0,
     43,
     73,
     114
    ]
   },
   "outputs": [],
   "source": [
    "def individual_training(product_ids, location_ids, df_train_demand, model):\n",
    "    mae_, r2_, mape_, smape_, rmse_, wape_ = [],[],[],[],[],[]\n",
    "    for location in location_ids:\n",
    "        for product in product_ids:\n",
    "            \n",
    "            \n",
    "            df_train_demand_ = df_train_demand[(df_train_demand.product_id == product) & (df_train_demand.location_id == location)]\n",
    "            \n",
    "            if len(df_train_demand_ ) != 0:\n",
    "                y = df_train_demand_[\"Demand\"]\n",
    "                X = df_train_demand_.drop(columns=[\"Demand\", 'date', 'sales_qty', 'stock_qty', 'Promo',\n",
    "                                                  'Deficit', 'NoFilter', 'NoneDeficit', 'product_id', 'location_id'], axis=1)\n",
    "                y = y.reset_index(drop=True)\n",
    "                X = X.fillna(0)\n",
    "\n",
    "                X_train, X_test, y_train, y_test = train_test_split(X, y, test_size=0.1, random_state=42)  \n",
    "\n",
    "\n",
    "                xgb_cool = model\n",
    "\n",
    "                xgb_cool.fit(X_train,y_train)\n",
    "\n",
    "                y_predict = xgb_cool.predict(X_test)\n",
    "                mae, r2, mape, smape, rmse, wape = calculate_metrics(y_predict, y_test)\n",
    "                \n",
    "                mae_.append(mae)\n",
    "                r2_.append(r2)\n",
    "                mape_.append(mape)\n",
    "                smape_.append(smape)\n",
    "                rmse_.append(rmse)\n",
    "                wape_.append(wape)\n",
    "                #accuracy_.append(accuracy)\n",
    "    \n",
    "    \n",
    "    \n",
    "    \n",
    "    print(\"MAE: %.3f\" % np.nanmean(mae_))\n",
    "    print(\"R2: %.3f\" % np.nanmean(r2_))\n",
    "    print(\"MAPE_: %.3f\" % np.nanmean(mape_))\n",
    "    print(\"SMAPE_: %.3f\" % np.nanmean(smape_))\n",
    "    print(\"RMSE_: %.3f\" % np.nanmean(rmse_))\n",
    "    print(\"WAPE_: %.3f\" % np.nanmean(wape_))\n",
    "                \n",
    "def massive_training(df_train_demand, model):\n",
    "    \n",
    "    df_train_demand_ = df_train_demand.copy()\n",
    "\n",
    "\n",
    "    y = df_train_demand_[\"Demand\"]\n",
    "    X = df_train_demand_.drop(columns=[\"Demand\", 'date', 'sales_qty', 'stock_qty', 'Promo',\n",
    "                                      'Deficit', 'NoFilter', 'NoneDeficit', 'product_id', 'location_id'], axis=1)\n",
    "    y = y.reset_index(drop=True)\n",
    "    X = X.fillna(0)\n",
    "\n",
    "    X_train, X_test, y_train, y_test = train_test_split(X, y, test_size=0.1, random_state=42)  \n",
    "\n",
    "\n",
    "    xgb_cool = model\n",
    "\n",
    "    xgb_cool.fit(X_train,y_train)\n",
    "\n",
    "    y_predict = xgb_cool.predict(X_test)\n",
    "    mae, r2, mape, smape, rmse, wape = calculate_metrics(y_predict, y_test)\n",
    "    \n",
    "    \n",
    "    print(\"MAE: %.3f\" % mae)\n",
    "    print(\"R2: %.3f\" % r2)\n",
    "    print(\"MAPE_: %.3f\" % mape)\n",
    "    print(\"SMAPE_: %.3f\" % smape)\n",
    "    print(\"RMSE_: %.3f\" % rmse)\n",
    "    print(\"WAPE_: %.3f\" % wape)\n",
    "\n",
    "    \n",
    "def rolling_mean(product_ids, location_ids,window_size, data):\n",
    "    mae_, r2_, mape_, smape_, rmse_, wape_ = [],[],[],[],[], []\n",
    "    for location in location_ids:\n",
    "        for product in product_ids:\n",
    "    \n",
    "            df = data[(data.product_id == product) \n",
    "                                               & (data.location_id == location)].sort_values(by='date')\n",
    "\n",
    "\n",
    "            # вычисляем скользящее среднее и добавляем в таблицу\n",
    "            df['RollingMean'] = df['Demand'].rolling(window=window_size, center=True, min_periods=1).mean().fillna(0)\n",
    "\n",
    "\n",
    "            \n",
    "\n",
    "\n",
    "            y_true = df['Demand']\n",
    "            y_pred = df['RollingMean']\n",
    "            \n",
    "        \n",
    "            \n",
    "\n",
    "            mae, r2, mape, smape, rmse, wape = calculate_metrics(y_pred, y_true)\n",
    "\n",
    "            mae_.append(mae)\n",
    "            r2_.append(r2)\n",
    "            mape_.append(mape)\n",
    "            smape_.append(smape)\n",
    "            rmse_.append(rmse)\n",
    "            wape_.append(wape)\n",
    "            \n",
    "            \n",
    "            \n",
    "    print(\"MAE: %.3f\" % np.nanmean(mae_))\n",
    "    print(\"R2: %.3f\" % np.nanmean(r2_))\n",
    "    print(\"MAPE_: %.3f\" % np.nanmean(mape_))\n",
    "    print(\"SMAPE_: %.3f\" % np.nanmean(smape_))\n",
    "    print(\"RMSE_: %.3f\" % np.nanmean(rmse_))\n",
    "    print(\"WAPE_: %.3f\" % np.nanmean(wape_))\n",
    "    \n",
    "    \n",
    "def ewm_rolling_mean(product_ids, location_ids,alpha, data):\n",
    "    mae_, r2_, mape_, smape_, rmse_ = [],[],[],[],[]\n",
    "    for location in location_ids:\n",
    "        for product in product_ids:\n",
    "    \n",
    "            df = data[(data.product_id == product) \n",
    "                                               & (data.location_id == location)].sort_values(by='date')\n",
    "\n",
    "\n",
    "            # вычисляем скользящее среднее и добавляем в таблицу\n",
    "            df['RollingMean'] = df['Demand'].ewm(alpha=alpha, adjust=False).mean().iloc[-1:].fillna(0)\n",
    "\n",
    "\n",
    "            df = df.fillna(0)\n",
    "\n",
    "\n",
    "            y_true = df['Demand']\n",
    "            y_pred = df['RollingMean']\n",
    "            \n",
    "        \n",
    "            \n",
    "\n",
    "            mae, r2, mape, smape, rmse = calculate_metrics(y_pred, y_true)\n",
    "\n",
    "            mae_.append(mae)\n",
    "            r2_.append(r2)\n",
    "            mape_.append(mape)\n",
    "            smape_.append(smape)\n",
    "            rmse_.append(rmse)\n",
    "            \n",
    "            \n",
    "            \n",
    "    print(\"MAE: %.3f\" % np.nanmean(mae_))\n",
    "    print(\"R2: %.3f\" % np.nanmean(r2_))\n",
    "    print(\"MAPE_: %.3f\" % np.nanmean(mape_))\n",
    "    print(\"SMAPE_: %.3f\" % np.nanmean(smape_))\n",
    "    print(\"RMSE_: %.3f\" % np.nanmean(rmse_))\n"
   ]
  },
  {
   "cell_type": "code",
   "execution_count": 874,
   "id": "eeef154b",
   "metadata": {
    "ExecuteTime": {
     "end_time": "2023-05-31T16:09:47.850684Z",
     "start_time": "2023-05-31T16:09:47.839716Z"
    },
    "scrolled": true
   },
   "outputs": [],
   "source": [
    "product_ids = df_train_demand.product_id.unique()\n",
    "location_ids = df_train_demand.location_id.unique()\n"
   ]
  },
  {
   "cell_type": "code",
   "execution_count": 868,
   "id": "2a2495af",
   "metadata": {
    "ExecuteTime": {
     "end_time": "2023-05-31T16:08:40.534850Z",
     "start_time": "2023-05-31T16:08:40.528500Z"
    }
   },
   "outputs": [],
   "source": [
    "#!pip install catboost"
   ]
  },
  {
   "cell_type": "code",
   "execution_count": 832,
   "id": "5aed18c7",
   "metadata": {
    "ExecuteTime": {
     "end_time": "2023-05-31T11:11:16.006432Z",
     "start_time": "2023-05-31T11:11:15.963298Z"
    }
   },
   "outputs": [
    {
     "name": "stdout",
     "output_type": "stream",
     "text": [
      "EWM Rolling Mean\n",
      "\n",
      "Попарное обучение:\n",
      "\n",
      "MAE: 3.509\n",
      "R2: -420.234\n",
      "MAPE_: inf\n",
      "SMAPE_: 199.339\n",
      "RMSE_: 9.769\n"
     ]
    }
   ],
   "source": [
    "print(\"EWM Rolling Mean\\n\")\n",
    "\n",
    "## индивидуальное обучение\n",
    "print(\"Попарное обучение:\\n\")\n",
    "ewm_rolling_mean(product_ids, location_ids, 0.1, df_train_demand)"
   ]
  },
  {
   "cell_type": "code",
   "execution_count": 877,
   "id": "8361a0d4",
   "metadata": {
    "ExecuteTime": {
     "end_time": "2023-05-31T16:10:07.972819Z",
     "start_time": "2023-05-31T16:10:07.930547Z"
    }
   },
   "outputs": [
    {
     "name": "stdout",
     "output_type": "stream",
     "text": [
      "Rolling Mean\n",
      "\n",
      "Попарное обучение:\n",
      "\n",
      "MAE: 1.802\n",
      "R2: -0.026\n",
      "MAPE_: 33.422\n",
      "SMAPE_: 35.412\n",
      "RMSE_: 5.427\n",
      "WAPE_: 53.842\n"
     ]
    }
   ],
   "source": [
    "print(\"Rolling Mean\\n\")\n",
    "\n",
    "## индивидуальное обучение\n",
    "print(\"Попарное обучение:\\n\")\n",
    "rolling_mean(product_ids, location_ids, 3, df_train_demand)"
   ]
  },
  {
   "cell_type": "code",
   "execution_count": 871,
   "id": "23d8cfed",
   "metadata": {
    "ExecuteTime": {
     "end_time": "2023-05-31T16:08:58.306199Z",
     "start_time": "2023-05-31T16:08:56.015279Z"
    }
   },
   "outputs": [
    {
     "name": "stdout",
     "output_type": "stream",
     "text": [
      "XGBoost\n",
      "\n",
      "Попарное обучение:\n",
      "\n",
      "MAE: 3.373\n",
      "R2: -4468884660126.084\n",
      "MAPE_: 257.935\n",
      "SMAPE_: 94.205\n",
      "RMSE_: 5.228\n",
      "WAPE_: 86.704\n",
      "\n",
      "\n",
      "Общее обучение:\n",
      "\n",
      "MAE: 2.628\n",
      "R2: -0.388\n",
      "MAPE_: 66.957\n",
      "SMAPE_: 59.738\n",
      "RMSE_: 7.058\n",
      "WAPE_: 73.539\n"
     ]
    }
   ],
   "source": [
    "print(\"XGBoost\\n\")\n",
    "## xgboost\n",
    "## индивидуальное обучение\n",
    "print(\"Попарное обучение:\\n\")\n",
    "individual_training(product_ids, location_ids, df_train_demand, xgb.XGBRegressor(**study.best_trial.params))\n",
    "\n",
    "print(\"\\n\\nОбщее обучение:\\n\")\n",
    "## xgboost\n",
    "## общее обучение\n",
    "massive_training(df_train_demand, xgb.XGBRegressor(**study.best_trial.params))"
   ]
  },
  {
   "cell_type": "code",
   "execution_count": 872,
   "id": "9dde7ac0",
   "metadata": {
    "ExecuteTime": {
     "end_time": "2023-05-31T16:09:09.563168Z",
     "start_time": "2023-05-31T16:09:09.467102Z"
    }
   },
   "outputs": [
    {
     "name": "stdout",
     "output_type": "stream",
     "text": [
      "Linear regression\n",
      "\n",
      "Попарное обучение:\n",
      "\n",
      "MAE: 6.797\n",
      "R2: -0.800\n",
      "MAPE_: 290.493\n",
      "SMAPE_: 125.091\n",
      "RMSE_: 10.340\n",
      "WAPE_: 89.616\n",
      "\n",
      "\n",
      "Общее обучение:\n",
      "\n",
      "MAE: 3.450\n",
      "R2: -2.327\n",
      "MAPE_: 99.035\n",
      "SMAPE_: 90.166\n",
      "RMSE_: 7.993\n",
      "WAPE_: 93.042\n"
     ]
    }
   ],
   "source": [
    "print(\"Linear regression\\n\")\n",
    "\n",
    "# linear regression\n",
    "## индивидуальное обучение\n",
    "print(\"Попарное обучение:\\n\")\n",
    "individual_training(product_ids, location_ids, df_train_demand, LinearRegression())\n",
    "\n",
    "print(\"\\n\\nОбщее обучение:\\n\")\n",
    "# linear regression\n",
    "## общее обучение\n",
    "massive_training(df_train_demand, LinearRegression())\n"
   ]
  },
  {
   "cell_type": "code",
   "execution_count": 878,
   "id": "68a1b85c",
   "metadata": {
    "ExecuteTime": {
     "end_time": "2023-05-31T16:11:06.401834Z",
     "start_time": "2023-05-31T16:11:06.326072Z"
    }
   },
   "outputs": [
    {
     "name": "stdout",
     "output_type": "stream",
     "text": [
      "Ridge\n",
      "\n",
      "Попарное обучение:\n",
      "\n",
      "MAE: 5.248\n",
      "R2: -2.680\n",
      "MAPE_: 242.957\n",
      "SMAPE_: 110.764\n",
      "RMSE_: 8.498\n",
      "WAPE_: 79.919\n",
      "\n",
      "\n",
      "Общее обучение:\n",
      "\n",
      "MAE: 3.450\n",
      "R2: -2.327\n",
      "MAPE_: 99.131\n",
      "SMAPE_: 90.177\n",
      "RMSE_: 7.993\n",
      "WAPE_: 93.033\n"
     ]
    }
   ],
   "source": [
    "print(\"Ridge\\n\")\n",
    "\n",
    "# linear regression\n",
    "## индивидуальное обучение\n",
    "print(\"Попарное обучение:\\n\")\n",
    "individual_training(product_ids, location_ids, df_train_demand, Ridge())\n",
    "\n",
    "print(\"\\n\\nОбщее обучение:\\n\")\n",
    "# linear regression\n",
    "## общее обучение\n",
    "massive_training(df_train_demand, Ridge())"
   ]
  },
  {
   "cell_type": "code",
   "execution_count": 879,
   "id": "eba9efa4",
   "metadata": {
    "ExecuteTime": {
     "end_time": "2023-05-31T16:12:40.918549Z",
     "start_time": "2023-05-31T16:12:40.904953Z"
    }
   },
   "outputs": [],
   "source": [
    "def xbgboost_train(df, columns_):\n",
    "    \n",
    "    \n",
    "    y = df[\"Demand\"]\n",
    "    X = df.drop(columns=[\"Demand\", 'date', 'sales_qty', 'stock_qty', 'Promo',\n",
    "                                  'Deficit', 'NoFilter', 'NoneDeficit', 'product_id', 'location_id'], axis=1)\n",
    "    y = y.reset_index(drop=True)\n",
    "    X = X.fillna(0)\n",
    "\n",
    "    X_train, X_test, y_train, y_test = train_test_split(X, y, test_size=0.33, random_state=42) \n",
    "\n",
    "    \n",
    "    xgb_cool = xgb.XGBRegressor(**study.best_trial.params)\n",
    "    #my_cross_val_score(xgb_cool, X_train, y_train, cv=5)\n",
    "    \n",
    "    \n",
    "    \n",
    "    xgb_cool.fit(X_train, y_train)\n",
    "    y_predict = xgb_cool.predict(X_test)\n",
    "    calculate_metrics(y_predict, y_test)\n",
    "    "
   ]
  },
  {
   "cell_type": "markdown",
   "id": "35c51b07",
   "metadata": {},
   "source": [
    "## Feauture importance"
   ]
  },
  {
   "cell_type": "code",
   "execution_count": 880,
   "id": "c101b9a3",
   "metadata": {
    "ExecuteTime": {
     "end_time": "2023-05-31T16:12:41.459689Z",
     "start_time": "2023-05-31T16:12:41.450092Z"
    }
   },
   "outputs": [
    {
     "data": {
      "text/plain": [
       "\"import pandas as pd\\nf_importance = xgb_cool.get_booster().get_score(importance_type='gain')\\n\\nimportance_df = pd.DataFrame.from_dict(data=f_importance, \\n                                       orient='index').sort_values(0)\\n\""
      ]
     },
     "execution_count": 880,
     "metadata": {},
     "output_type": "execute_result"
    }
   ],
   "source": [
    "\"\"\"import pandas as pd\n",
    "f_importance = xgb_cool.get_booster().get_score(importance_type='gain')\n",
    "\n",
    "importance_df = pd.DataFrame.from_dict(data=f_importance, \n",
    "                                       orient='index').sort_values(0)\n",
    "\"\"\""
   ]
  },
  {
   "cell_type": "code",
   "execution_count": 881,
   "id": "e060fcf2",
   "metadata": {
    "ExecuteTime": {
     "end_time": "2023-05-31T16:12:42.625221Z",
     "start_time": "2023-05-31T16:12:42.331102Z"
    }
   },
   "outputs": [
    {
     "data": {
      "text/plain": [
       "<AxesSubplot:>"
      ]
     },
     "execution_count": 881,
     "metadata": {},
     "output_type": "execute_result"
    },
    {
     "data": {
      "image/png": "[encoded data removed]",
      "text/plain": [
       "<Figure size 2000x1200 with 1 Axes>"
      ]
     },
     "metadata": {},
     "output_type": "display_data"
    }
   ],
   "source": [
    "importance_df.plot.bar(figsize=(20,12))"
   ]
  },
  {
   "cell_type": "markdown",
   "id": "7cf6ff15",
   "metadata": {},
   "source": [
    "## Сегментация моделей"
   ]
  },
  {
   "cell_type": "markdown",
   "id": "c5b02e95",
   "metadata": {},
   "source": [
    "- кластеризация по городам\n",
    "- кластеризация по специфике точки продаж\n",
    "- кластеризация по товарам\n",
    "- по сочетаниям"
   ]
  },
  {
   "cell_type": "markdown",
   "id": "387f7522",
   "metadata": {},
   "source": [
    "Для решения задачи кластеризации можно использовать различные алгоритмы, такие как KMeans, DBSCAN, Hierarchical Clustering и т.д. В данном примере я буду использовать алгоритм KMeans с помощью библиотеки scikit-learn."
   ]
  },
  {
   "cell_type": "markdown",
   "id": "5b6a6b0e",
   "metadata": {},
   "source": [
    "### KMeans"
   ]
  },
  {
   "cell_type": "code",
   "execution_count": 882,
   "id": "95ace7ee",
   "metadata": {
    "ExecuteTime": {
     "end_time": "2023-05-31T16:12:46.614813Z",
     "start_time": "2023-05-31T16:12:46.597388Z"
    }
   },
   "outputs": [],
   "source": [
    "from sklearn.preprocessing import StandardScaler\n",
    "from sklearn.cluster import KMeans\n",
    "from sklearn.metrics import silhouette_score\n",
    "import matplotlib.pyplot as plt\n",
    "\n",
    "\n",
    "\n",
    "## целевая переменная - спрос, не дельта\n",
    "## по многим лаговым фичам - на нескольних\n",
    "## отнормировать \n",
    "## \n",
    "\n",
    "## попробовать другие сегментации\n",
    "\n",
    "def kmeans_clustering(df, field_of_clustering, kmean_number, clustering_features): \n",
    "    df_clustered = df[field_of_clustering + clustering_features][(df.Deficit == 0)]\n",
    "    \n",
    "    \n",
    "    df_clustered = df_clustered.groupby(field_of_clustering).mean().reset_index()\n",
    "    \n",
    "    \n",
    "    scaler = StandardScaler()\n",
    "    df_scaled = scaler.fit_transform(df_clustered.iloc[:,1:])\n",
    "    \n",
    "    \n",
    "    kmeans = KMeans(n_clusters=kmean_number)\n",
    "    kmeans.fit(df_scaled)\n",
    "    \n",
    "    print(\"Quality of clustering %0.2f\" % silhouette_score(df_scaled, kmeans.labels_))\n",
    "    \n",
    "    df_clustered['cluster'] = kmeans.labels_\n",
    "    df_clustered = pd.merge(df, df_clustered[field_of_clustering+['cluster']], on=field_of_clustering)\n",
    "    clusters_kmeans = sorted(list(df_clustered.cluster.unique()))\n",
    "    return  df_clustered, clusters_kmeans, kmeans.inertia_, kmeans.cluster_centers_"
   ]
  },
  {
   "cell_type": "markdown",
   "id": "afae7661",
   "metadata": {},
   "source": [
    "Затем можно определить оптимальное количество кластеров с помощью метода \"локтя\" (elbow method). Для этого можно циклически изменять количество кластеров и записывать значения inertia_ (метрика, для определения качества кластеризации), а затем построить график зависимости inertia_ от количества кластеров. На этом графике можно найти точку \"локтя\", которая определяет оптимальное количество кластеров:"
   ]
  },
  {
   "cell_type": "code",
   "execution_count": 883,
   "id": "b3b81eb3",
   "metadata": {
    "ExecuteTime": {
     "end_time": "2023-05-31T16:12:49.713265Z",
     "start_time": "2023-05-31T16:12:49.708148Z"
    }
   },
   "outputs": [],
   "source": [
    "clustering_features = numeric + ['sales_qty', 'promo']\n",
    "#clustering_features = ['NoFilter_lagback7d_w28_nanmean', 'cost']"
   ]
  },
  {
   "cell_type": "code",
   "execution_count": 884,
   "id": "962f5725",
   "metadata": {
    "ExecuteTime": {
     "end_time": "2023-05-31T16:12:50.703773Z",
     "start_time": "2023-05-31T16:12:50.338524Z"
    }
   },
   "outputs": [
    {
     "name": "stdout",
     "output_type": "stream",
     "text": [
      "Quality of clustering 0.55\n",
      "Quality of clustering 0.29\n",
      "Quality of clustering 0.26\n",
      "Quality of clustering 0.27\n",
      "Quality of clustering 0.22\n",
      "Quality of clustering 0.20\n",
      "Quality of clustering 0.14\n",
      "Quality of clustering 0.14\n",
      "Quality of clustering 0.13\n",
      "Quality of clustering 0.11\n",
      "Quality of clustering 0.09\n",
      "Quality of clustering 0.08\n"
     ]
    },
    {
     "data": {
      "image/png": "[encoded data removed]",
      "text/plain": [
       "<Figure size 1000x600 with 1 Axes>"
      ]
     },
     "metadata": {},
     "output_type": "display_data"
    }
   ],
   "source": [
    "import matplotlib.pyplot as plt\n",
    "\n",
    "inertia = []\n",
    "for k in range(2, 14):\n",
    "    kmeans = kmeans_clustering(df_train_demand, ['location_id'], k, clustering_features)[2]\n",
    "    inertia.append(kmeans)\n",
    "\n",
    "x = np.array(range(2,14))\n",
    "plt.figure(figsize=(10,6)).set_figheight(6)\n",
    "plt.plot(x, inertia)\n",
    "plt.xlabel('Number of clusters')\n",
    "plt.ylabel('Inertia')\n",
    "plt.grid()\n",
    "plt.xticks(x)\n",
    "plt.show()\n"
   ]
  },
  {
   "cell_type": "code",
   "execution_count": 893,
   "id": "00e3e333",
   "metadata": {
    "ExecuteTime": {
     "end_time": "2023-05-31T16:13:53.328457Z",
     "start_time": "2023-05-31T16:13:53.291753Z"
    }
   },
   "outputs": [
    {
     "name": "stdout",
     "output_type": "stream",
     "text": [
      "Quality of clustering 0.29\n"
     ]
    }
   ],
   "source": [
    "# кластеризация по локации\n",
    "\n",
    "clustering = kmeans_clustering(df_train_demand, ['location_id'], 3, clustering_features)\n",
    "\n",
    "clustered_df_location = clustering[0].sample(frac=1).reset_index(drop=True)\n",
    "centers = clustering[3]\n",
    "\n",
    "# кластеризация по товару\n",
    "#clustered_df_product = kmeans_clustering(df_train_demand, ['product_id'], 3, clustering_features)[0].sample(frac=1).reset_index(drop=True)"
   ]
  },
  {
   "cell_type": "code",
   "execution_count": 894,
   "id": "ed4c0f26",
   "metadata": {
    "ExecuteTime": {
     "end_time": "2023-05-31T16:14:04.670875Z",
     "start_time": "2023-05-31T16:14:04.657565Z"
    }
   },
   "outputs": [
    {
     "data": {
      "text/plain": [
       "\"inertia = []\\nfor k in range(2, 6):\\n    kmeans = kmeans_clustering(df_train_demand, ['product_id'], k, clustering_features)[2]\\n    inertia.append(kmeans)\\n\\nx = np.array(range(2,6))\\nplt.figure(figsize=(10,6)).set_figheight(6)\\nplt.plot(x, inertia)\\nplt.xlabel('Number of clusters')\\nplt.ylabel('Inertia')\\nplt.grid()\\nplt.xticks(x)\\nplt.show()\\n\\n\""
      ]
     },
     "execution_count": 894,
     "metadata": {},
     "output_type": "execute_result"
    }
   ],
   "source": [
    "\"\"\"inertia = []\n",
    "for k in range(2, 6):\n",
    "    kmeans = kmeans_clustering(df_train_demand, ['product_id'], k, clustering_features)[2]\n",
    "    inertia.append(kmeans)\n",
    "\n",
    "x = np.array(range(2,6))\n",
    "plt.figure(figsize=(10,6)).set_figheight(6)\n",
    "plt.plot(x, inertia)\n",
    "plt.xlabel('Number of clusters')\n",
    "plt.ylabel('Inertia')\n",
    "plt.grid()\n",
    "plt.xticks(x)\n",
    "plt.show()\n",
    "\n",
    "\"\"\""
   ]
  },
  {
   "cell_type": "code",
   "execution_count": 898,
   "id": "21b5b61d",
   "metadata": {
    "ExecuteTime": {
     "end_time": "2023-05-31T16:18:53.396707Z",
     "start_time": "2023-05-31T16:18:52.246379Z"
    }
   },
   "outputs": [
    {
     "name": "stdout",
     "output_type": "stream",
     "text": [
      "Ridge\n",
      "\n",
      "\n",
      "\n",
      "Общее обучение:\n",
      "\n",
      "MAE: 0.001\n",
      "R2: -0.635\n",
      "MAPE_: 547.894\n",
      "SMAPE_: 148.670\n",
      "RMSE_: 0.006\n",
      "WAPE_: 127.495\n"
     ]
    }
   ],
   "source": [
    "columns=[\"Demand\", 'date', 'sales_qty', 'stock_qty', 'Promo',\n",
    "                                  'Deficit', 'NoFilter', 'NoneDeficit', 'product_id', 'location_id']\n",
    "\n",
    "\n",
    "\n",
    "print(\"Ridge\\n\")\n",
    "\n",
    "print(\"\\n\\nОбщее обучение:\\n\")\n",
    "# linear regression\n",
    "## общее обучение\n",
    "massive_training(clustered_df_product[(clustered_df_product.Deficit == 0)], xgb.XGBRegressor(**study.best_trial.params))\n",
    "\n",
    "\n"
   ]
  },
  {
   "cell_type": "code",
   "execution_count": 276,
   "id": "666b77e7",
   "metadata": {
    "ExecuteTime": {
     "end_time": "2023-05-30T19:07:36.888170Z",
     "start_time": "2023-05-30T19:07:34.938326Z"
    }
   },
   "outputs": [
    {
     "name": "stdout",
     "output_type": "stream",
     "text": [
      "Результ с кластеризацией по локации:\n",
      "MAE: 0.001\n",
      "R2: -0.841\n",
      "MAPE: 215.949\n",
      "sMAPE: 153.729\n",
      "RMSE: 0.008\n",
      "\n",
      "\n",
      "Результ без кластеризации по локации:\n",
      "MAE: 0.001\n",
      "R2: -1.103\n",
      "MAPE: 291.656\n",
      "sMAPE: 149.981\n",
      "RMSE: 0.008\n"
     ]
    }
   ],
   "source": [
    "# с кластеризацией\n",
    "print(\"Результ с кластеризацией по локации:\")\n",
    "input_df = clustered_df_location[(clustered_df_location.Deficit == 0)]\n",
    "xbgboost_train(input_df, columns)\n",
    "\n",
    "\n",
    "# без кластеризации\n",
    "print(\"\\n\\nРезульт без кластеризации по локации:\")\n",
    "input_df = clustered_df_location[(clustered_df_location.Deficit == 0)].drop('cluster', axis=1)\n",
    "xbgboost_train(input_df, columns)"
   ]
  },
  {
   "cell_type": "code",
   "execution_count": 508,
   "id": "05aebdef",
   "metadata": {
    "ExecuteTime": {
     "end_time": "2023-05-21T19:40:05.943929Z",
     "start_time": "2023-05-21T19:40:05.930231Z"
    }
   },
   "outputs": [
    {
     "data": {
      "text/plain": [
       "array([[-0.64303688,  0.49133168,  0.61808496,  0.43120918,  0.60405264,\n",
       "         0.57880365,  0.34677048,  0.55830914, -0.1051716 ,  0.68510879,\n",
       "        -0.06210269,  0.39125979,  0.64300845,  0.4283048 ,  0.63868486,\n",
       "         0.26054174,  0.60872057,  0.23435837,  0.52451498, -0.23725726,\n",
       "        -0.19807079],\n",
       "       [ 2.71875883, -0.21869949, -2.74047385, -0.45778258,  0.56338474,\n",
       "        -2.10850189,  1.25551549, -2.84956417,  1.45162285, -3.03296713,\n",
       "         0.1416596 , -0.16082759, -2.8831025 , -0.95206768, -2.82741993,\n",
       "        -2.19910415, -2.81843799, -1.26615374, -2.8010509 ,  3.39028714,\n",
       "        -1.60340792],\n",
       "       [ 0.32877568, -0.45035203, -0.3023883 , -0.36676072, -0.64284198,\n",
       "        -0.33222118, -0.46890534, -0.23305908, -0.05411555, -0.33567986,\n",
       "         0.04470692, -0.36005469, -0.31114003, -0.31100095, -0.31293683,\n",
       "        -0.01561837, -0.28500505, -0.0903291 , -0.20566971, -0.13446126,\n",
       "         0.36279054]])"
      ]
     },
     "execution_count": 508,
     "metadata": {},
     "output_type": "execute_result"
    }
   ],
   "source": [
    "centers"
   ]
  },
  {
   "cell_type": "markdown",
   "id": "5734d55b",
   "metadata": {
    "ExecuteTime": {
     "end_time": "2023-05-21T14:40:35.298783Z",
     "start_time": "2023-05-21T14:40:35.289848Z"
    }
   },
   "source": [
    "#### Визуализация kmeans"
   ]
  },
  {
   "cell_type": "code",
   "execution_count": 507,
   "id": "8018eb85",
   "metadata": {
    "ExecuteTime": {
     "end_time": "2023-05-21T19:39:38.790973Z",
     "start_time": "2023-05-21T19:39:38.395265Z"
    }
   },
   "outputs": [
    {
     "data": {
      "image/png": "[encoded data removed]",
      "text/plain": [
       "<Figure size 2000x1200 with 1 Axes>"
      ]
     },
     "metadata": {},
     "output_type": "display_data"
    }
   ],
   "source": [
    "a = clustered_df_location.NoFilter_lagback7d_w28_nanmean\n",
    "b = clustered_df_location.cost\n",
    "y_kmeans = clustered_df_location.cluster\n",
    "\n",
    "\n",
    "plt.figure(figsize=(20,12))\n",
    "plt.scatter(a,b, c=y_kmeans, s=100, cmap='viridis')\n",
    "plt.scatter(centers[:, 1], centers[:, 2], c='black', s=200, alpha=0.5);\n",
    "plt.show()\n"
   ]
  },
  {
   "cell_type": "code",
   "execution_count": 303,
   "id": "d13f5592",
   "metadata": {
    "ExecuteTime": {
     "end_time": "2023-05-21T15:26:47.629439Z",
     "start_time": "2023-05-21T15:26:47.609307Z"
    }
   },
   "outputs": [
    {
     "data": {
      "text/html": [
       "<div>\n",
       "<style scoped>\n",
       "    .dataframe tbody tr th:only-of-type {\n",
       "        vertical-align: middle;\n",
       "    }\n",
       "\n",
       "    .dataframe tbody tr th {\n",
       "        vertical-align: top;\n",
       "    }\n",
       "\n",
       "    .dataframe thead th {\n",
       "        text-align: right;\n",
       "    }\n",
       "</style>\n",
       "<table border=\"1\" class=\"dataframe\">\n",
       "  <thead>\n",
       "    <tr style=\"text-align: right;\">\n",
       "      <th></th>\n",
       "      <th>sales_qty</th>\n",
       "      <th>NoFilter_lagback7d_w28_nanmean</th>\n",
       "      <th>Deficit</th>\n",
       "    </tr>\n",
       "  </thead>\n",
       "  <tbody>\n",
       "    <tr>\n",
       "      <th>0</th>\n",
       "      <td>0.000415</td>\n",
       "      <td>0.016827</td>\n",
       "      <td>0</td>\n",
       "    </tr>\n",
       "    <tr>\n",
       "      <th>1</th>\n",
       "      <td>0.000622</td>\n",
       "      <td>0.082870</td>\n",
       "      <td>0</td>\n",
       "    </tr>\n",
       "    <tr>\n",
       "      <th>2</th>\n",
       "      <td>0.003109</td>\n",
       "      <td>0.044590</td>\n",
       "      <td>0</td>\n",
       "    </tr>\n",
       "    <tr>\n",
       "      <th>3</th>\n",
       "      <td>0.000622</td>\n",
       "      <td>0.069139</td>\n",
       "      <td>0</td>\n",
       "    </tr>\n",
       "    <tr>\n",
       "      <th>4</th>\n",
       "      <td>0.000622</td>\n",
       "      <td>0.160730</td>\n",
       "      <td>0</td>\n",
       "    </tr>\n",
       "    <tr>\n",
       "      <th>...</th>\n",
       "      <td>...</td>\n",
       "      <td>...</td>\n",
       "      <td>...</td>\n",
       "    </tr>\n",
       "    <tr>\n",
       "      <th>22065</th>\n",
       "      <td>0.003109</td>\n",
       "      <td>0.074630</td>\n",
       "      <td>0</td>\n",
       "    </tr>\n",
       "    <tr>\n",
       "      <th>22066</th>\n",
       "      <td>0.004975</td>\n",
       "      <td>0.122478</td>\n",
       "      <td>0</td>\n",
       "    </tr>\n",
       "    <tr>\n",
       "      <th>22067</th>\n",
       "      <td>0.001036</td>\n",
       "      <td>0.262676</td>\n",
       "      <td>0</td>\n",
       "    </tr>\n",
       "    <tr>\n",
       "      <th>22068</th>\n",
       "      <td>0.005182</td>\n",
       "      <td>0.175504</td>\n",
       "      <td>0</td>\n",
       "    </tr>\n",
       "    <tr>\n",
       "      <th>22069</th>\n",
       "      <td>0.000622</td>\n",
       "      <td>0.035619</td>\n",
       "      <td>0</td>\n",
       "    </tr>\n",
       "  </tbody>\n",
       "</table>\n",
       "<p>22070 rows × 3 columns</p>\n",
       "</div>"
      ],
      "text/plain": [
       "       sales_qty  NoFilter_lagback7d_w28_nanmean  Deficit\n",
       "0       0.000415                        0.016827        0\n",
       "1       0.000622                        0.082870        0\n",
       "2       0.003109                        0.044590        0\n",
       "3       0.000622                        0.069139        0\n",
       "4       0.000622                        0.160730        0\n",
       "...          ...                             ...      ...\n",
       "22065   0.003109                        0.074630        0\n",
       "22066   0.004975                        0.122478        0\n",
       "22067   0.001036                        0.262676        0\n",
       "22068   0.005182                        0.175504        0\n",
       "22069   0.000622                        0.035619        0\n",
       "\n",
       "[22070 rows x 3 columns]"
      ]
     },
     "execution_count": 303,
     "metadata": {},
     "output_type": "execute_result"
    }
   ],
   "source": [
    " clustered_df_location[['sales_qty', 'NoFilter_lagback7d_w28_nanmean', 'Deficit']]"
   ]
  },
  {
   "cell_type": "markdown",
   "id": "ed3c693c",
   "metadata": {
    "ExecuteTime": {
     "end_time": "2023-05-21T14:35:49.509193Z",
     "start_time": "2023-05-21T14:35:49.499182Z"
    }
   },
   "source": [
    "### DBSCAN"
   ]
  },
  {
   "cell_type": "markdown",
   "id": "c9cfdba5",
   "metadata": {},
   "source": [
    "DBSCAN - это алгоритм кластеризации, который основывается на определении связей между точками в пространстве признаков. DBSCAN может использоваться для выделения выбросов и аномалий в данных, а также для кластеризации временных рядов по группам сходных форм и паттернов."
   ]
  },
  {
   "cell_type": "code",
   "execution_count": 437,
   "id": "82ca8878",
   "metadata": {
    "ExecuteTime": {
     "end_time": "2023-05-21T19:08:58.939211Z",
     "start_time": "2023-05-21T19:08:56.436713Z"
    }
   },
   "outputs": [],
   "source": [
    "dbscan_df = df_train_demand.copy()\n",
    "\n",
    "features = numeric + ['sales_qty', 'promo']\n",
    "X = dbscan_df[features]\n",
    "\n",
    "# Стандартизируем признаки\n",
    "scaler = StandardScaler()\n",
    "X_scaled = scaler.fit_transform(X)\n",
    "\n",
    "# Задаем eps и min_samples\n",
    "eps = 2.5\n",
    "min_samples = 10\n",
    "\n",
    "# Кластеризуем данные\n",
    "dbscan = DBSCAN(eps=eps, min_samples=min_samples)\n",
    "clusters = dbscan.fit_predict(X_scaled)\n",
    "\n",
    "# Добавляем кластеры в исходный набор данных\n",
    "dbscan_df['cluster'] = clusters"
   ]
  },
  {
   "cell_type": "code",
   "execution_count": 438,
   "id": "b53e9d3f",
   "metadata": {
    "ExecuteTime": {
     "end_time": "2023-05-21T19:09:00.035973Z",
     "start_time": "2023-05-21T19:09:00.024490Z"
    }
   },
   "outputs": [
    {
     "data": {
      "text/plain": [
       "60"
      ]
     },
     "execution_count": 438,
     "metadata": {},
     "output_type": "execute_result"
    }
   ],
   "source": [
    "len(dbscan_df.cluster.unique())"
   ]
  },
  {
   "cell_type": "code",
   "execution_count": 447,
   "id": "7e75213b",
   "metadata": {
    "ExecuteTime": {
     "end_time": "2023-05-21T19:12:07.883870Z",
     "start_time": "2023-05-21T19:11:59.397321Z"
    }
   },
   "outputs": [
    {
     "name": "stderr",
     "output_type": "stream",
     "text": [
      "\r",
      "  0%|                                                    | 0/60 [00:00<?, ?it/s]"
     ]
    },
    {
     "name": "stdout",
     "output_type": "stream",
     "text": [
      "10.72695977218172\n"
     ]
    },
    {
     "name": "stderr",
     "output_type": "stream",
     "text": [
      "  0%|                                                    | 0/60 [00:08<?, ?it/s]\n"
     ]
    },
    {
     "ename": "KeyboardInterrupt",
     "evalue": "",
     "output_type": "error",
     "traceback": [
      "\u001b[0;31m---------------------------------------------------------------------------\u001b[0m",
      "\u001b[0;31mKeyboardInterrupt\u001b[0m                         Traceback (most recent call last)",
      "\u001b[0;32m/var/folders/t3/wlpcbpmd1zd1jg1g6s2hhz0s8gkfsj/T/ipykernel_33213/366555845.py\u001b[0m in \u001b[0;36m<module>\u001b[0;34m\u001b[0m\n\u001b[1;32m      8\u001b[0m     \u001b[0;32mif\u001b[0m \u001b[0mlen\u001b[0m\u001b[0;34m(\u001b[0m\u001b[0mdbscan_df\u001b[0m\u001b[0;34m[\u001b[0m\u001b[0mdbscan_df\u001b[0m\u001b[0;34m.\u001b[0m\u001b[0mcluster\u001b[0m \u001b[0;34m==\u001b[0m \u001b[0mi\u001b[0m\u001b[0;34m]\u001b[0m\u001b[0;34m)\u001b[0m \u001b[0;34m>=\u001b[0m \u001b[0;36m5\u001b[0m\u001b[0;34m:\u001b[0m\u001b[0;34m\u001b[0m\u001b[0;34m\u001b[0m\u001b[0m\n\u001b[1;32m      9\u001b[0m         \u001b[0mprint\u001b[0m\u001b[0;34m(\u001b[0m\u001b[0mxbgboost_train\u001b[0m\u001b[0;34m(\u001b[0m\u001b[0mdbscan_df\u001b[0m\u001b[0;34m[\u001b[0m\u001b[0mdbscan_df\u001b[0m\u001b[0;34m.\u001b[0m\u001b[0mcluster\u001b[0m \u001b[0;34m==\u001b[0m \u001b[0mi\u001b[0m\u001b[0;34m]\u001b[0m\u001b[0;34m,\u001b[0m \u001b[0mcolumns\u001b[0m\u001b[0;34m)\u001b[0m\u001b[0;34m)\u001b[0m\u001b[0;34m\u001b[0m\u001b[0;34m\u001b[0m\u001b[0m\n\u001b[0;32m---> 10\u001b[0;31m         \u001b[0msmape\u001b[0m \u001b[0;34m+=\u001b[0m \u001b[0mxbgboost_train\u001b[0m\u001b[0;34m(\u001b[0m\u001b[0mdbscan_df\u001b[0m\u001b[0;34m[\u001b[0m\u001b[0mdbscan_df\u001b[0m\u001b[0;34m.\u001b[0m\u001b[0mcluster\u001b[0m \u001b[0;34m==\u001b[0m \u001b[0mi\u001b[0m\u001b[0;34m]\u001b[0m\u001b[0;34m,\u001b[0m \u001b[0mcolumns\u001b[0m\u001b[0;34m)\u001b[0m\u001b[0;34m\u001b[0m\u001b[0;34m\u001b[0m\u001b[0m\n\u001b[0m",
      "\u001b[0;32m/var/folders/t3/wlpcbpmd1zd1jg1g6s2hhz0s8gkfsj/T/ipykernel_33213/497515292.py\u001b[0m in \u001b[0;36mxbgboost_train\u001b[0;34m(df, columns_)\u001b[0m\n\u001b[1;32m      7\u001b[0m \u001b[0;34m\u001b[0m\u001b[0m\n\u001b[1;32m      8\u001b[0m     \u001b[0mxgb_cool\u001b[0m \u001b[0;34m=\u001b[0m \u001b[0mxgb\u001b[0m\u001b[0;34m.\u001b[0m\u001b[0mXGBRegressor\u001b[0m\u001b[0;34m(\u001b[0m\u001b[0;34m**\u001b[0m\u001b[0mstudy\u001b[0m\u001b[0;34m.\u001b[0m\u001b[0mbest_trial\u001b[0m\u001b[0;34m.\u001b[0m\u001b[0mparams\u001b[0m\u001b[0;34m)\u001b[0m\u001b[0;34m\u001b[0m\u001b[0;34m\u001b[0m\u001b[0m\n\u001b[0;32m----> 9\u001b[0;31m     \u001b[0;32mreturn\u001b[0m \u001b[0mmy_cross_val_score\u001b[0m\u001b[0;34m(\u001b[0m\u001b[0mxgb_cool\u001b[0m\u001b[0;34m,\u001b[0m \u001b[0mX\u001b[0m\u001b[0;34m,\u001b[0m \u001b[0my\u001b[0m\u001b[0;34m,\u001b[0m \u001b[0mcv\u001b[0m\u001b[0;34m=\u001b[0m\u001b[0;36m5\u001b[0m\u001b[0;34m)\u001b[0m\u001b[0;34m\u001b[0m\u001b[0;34m\u001b[0m\u001b[0m\n\u001b[0m\u001b[1;32m     10\u001b[0m \u001b[0;34m\u001b[0m\u001b[0m\n",
      "\u001b[0;32m/var/folders/t3/wlpcbpmd1zd1jg1g6s2hhz0s8gkfsj/T/ipykernel_33213/4201207243.py\u001b[0m in \u001b[0;36mmy_cross_val_score\u001b[0;34m(model, X, y, cv)\u001b[0m\n\u001b[1;32m      1\u001b[0m \u001b[0;32mdef\u001b[0m \u001b[0mmy_cross_val_score\u001b[0m\u001b[0;34m(\u001b[0m\u001b[0mmodel\u001b[0m\u001b[0;34m,\u001b[0m \u001b[0mX\u001b[0m\u001b[0;34m,\u001b[0m \u001b[0my\u001b[0m\u001b[0;34m,\u001b[0m \u001b[0mcv\u001b[0m\u001b[0;34m=\u001b[0m\u001b[0;36m5\u001b[0m\u001b[0;34m)\u001b[0m\u001b[0;34m:\u001b[0m\u001b[0;34m\u001b[0m\u001b[0;34m\u001b[0m\u001b[0m\n\u001b[0;32m----> 2\u001b[0;31m     \u001b[0mscores\u001b[0m \u001b[0;34m=\u001b[0m \u001b[0;34m(\u001b[0m\u001b[0;34m-\u001b[0m\u001b[0mcross_val_score\u001b[0m\u001b[0;34m(\u001b[0m\u001b[0mmodel\u001b[0m\u001b[0;34m,\u001b[0m \u001b[0mX\u001b[0m\u001b[0;34m,\u001b[0m \u001b[0my\u001b[0m\u001b[0;34m,\u001b[0m \u001b[0mcv\u001b[0m\u001b[0;34m=\u001b[0m\u001b[0mcv\u001b[0m\u001b[0;34m,\u001b[0m \u001b[0mscoring\u001b[0m\u001b[0;34m=\u001b[0m\u001b[0;34m'neg_root_mean_squared_error'\u001b[0m\u001b[0;34m)\u001b[0m\u001b[0;34m)\u001b[0m\u001b[0;34m.\u001b[0m\u001b[0msum\u001b[0m\u001b[0;34m(\u001b[0m\u001b[0;34m)\u001b[0m \u001b[0;34m/\u001b[0m \u001b[0;36m5\u001b[0m\u001b[0;34m\u001b[0m\u001b[0;34m\u001b[0m\u001b[0m\n\u001b[0m\u001b[1;32m      3\u001b[0m     \u001b[0;32mreturn\u001b[0m \u001b[0mscores\u001b[0m\u001b[0;34m.\u001b[0m\u001b[0mmean\u001b[0m\u001b[0;34m(\u001b[0m\u001b[0;34m)\u001b[0m\u001b[0;34m\u001b[0m\u001b[0;34m\u001b[0m\u001b[0m\n\u001b[1;32m      4\u001b[0m     \u001b[0;32mreturn\u001b[0m \u001b[0;34m\"Mean score of %0.2f SMAPE\"\u001b[0m \u001b[0;34m%\u001b[0m \u001b[0;34m(\u001b[0m\u001b[0mscores\u001b[0m\u001b[0;34m.\u001b[0m\u001b[0mmean\u001b[0m\u001b[0;34m(\u001b[0m\u001b[0;34m)\u001b[0m\u001b[0;34m)\u001b[0m\u001b[0;34m\u001b[0m\u001b[0;34m\u001b[0m\u001b[0m\n",
      "\u001b[0;32m~/opt/anaconda3/lib/python3.9/site-packages/sklearn/model_selection/_validation.py\u001b[0m in \u001b[0;36mcross_val_score\u001b[0;34m(estimator, X, y, groups, scoring, cv, n_jobs, verbose, fit_params, pre_dispatch, error_score)\u001b[0m\n\u001b[1;32m    507\u001b[0m     \u001b[0mscorer\u001b[0m \u001b[0;34m=\u001b[0m \u001b[0mcheck_scoring\u001b[0m\u001b[0;34m(\u001b[0m\u001b[0mestimator\u001b[0m\u001b[0;34m,\u001b[0m \u001b[0mscoring\u001b[0m\u001b[0;34m=\u001b[0m\u001b[0mscoring\u001b[0m\u001b[0;34m)\u001b[0m\u001b[0;34m\u001b[0m\u001b[0;34m\u001b[0m\u001b[0m\n\u001b[1;32m    508\u001b[0m \u001b[0;34m\u001b[0m\u001b[0m\n\u001b[0;32m--> 509\u001b[0;31m     cv_results = cross_validate(\n\u001b[0m\u001b[1;32m    510\u001b[0m         \u001b[0mestimator\u001b[0m\u001b[0;34m=\u001b[0m\u001b[0mestimator\u001b[0m\u001b[0;34m,\u001b[0m\u001b[0;34m\u001b[0m\u001b[0;34m\u001b[0m\u001b[0m\n\u001b[1;32m    511\u001b[0m         \u001b[0mX\u001b[0m\u001b[0;34m=\u001b[0m\u001b[0mX\u001b[0m\u001b[0;34m,\u001b[0m\u001b[0;34m\u001b[0m\u001b[0;34m\u001b[0m\u001b[0m\n",
      "\u001b[0;32m~/opt/anaconda3/lib/python3.9/site-packages/sklearn/model_selection/_validation.py\u001b[0m in \u001b[0;36mcross_validate\u001b[0;34m(estimator, X, y, groups, scoring, cv, n_jobs, verbose, fit_params, pre_dispatch, return_train_score, return_estimator, error_score)\u001b[0m\n\u001b[1;32m    265\u001b[0m     \u001b[0;31m# independent, and that it is pickle-able.\u001b[0m\u001b[0;34m\u001b[0m\u001b[0;34m\u001b[0m\u001b[0m\n\u001b[1;32m    266\u001b[0m     \u001b[0mparallel\u001b[0m \u001b[0;34m=\u001b[0m \u001b[0mParallel\u001b[0m\u001b[0;34m(\u001b[0m\u001b[0mn_jobs\u001b[0m\u001b[0;34m=\u001b[0m\u001b[0mn_jobs\u001b[0m\u001b[0;34m,\u001b[0m \u001b[0mverbose\u001b[0m\u001b[0;34m=\u001b[0m\u001b[0mverbose\u001b[0m\u001b[0;34m,\u001b[0m \u001b[0mpre_dispatch\u001b[0m\u001b[0;34m=\u001b[0m\u001b[0mpre_dispatch\u001b[0m\u001b[0;34m)\u001b[0m\u001b[0;34m\u001b[0m\u001b[0;34m\u001b[0m\u001b[0m\n\u001b[0;32m--> 267\u001b[0;31m     results = parallel(\n\u001b[0m\u001b[1;32m    268\u001b[0m         delayed(_fit_and_score)(\n\u001b[1;32m    269\u001b[0m             \u001b[0mclone\u001b[0m\u001b[0;34m(\u001b[0m\u001b[0mestimator\u001b[0m\u001b[0;34m)\u001b[0m\u001b[0;34m,\u001b[0m\u001b[0;34m\u001b[0m\u001b[0;34m\u001b[0m\u001b[0m\n",
      "\u001b[0;32m~/opt/anaconda3/lib/python3.9/site-packages/joblib/parallel.py\u001b[0m in \u001b[0;36m__call__\u001b[0;34m(self, iterable)\u001b[0m\n\u001b[1;32m   1044\u001b[0m                 \u001b[0mself\u001b[0m\u001b[0;34m.\u001b[0m\u001b[0m_iterating\u001b[0m \u001b[0;34m=\u001b[0m \u001b[0mself\u001b[0m\u001b[0;34m.\u001b[0m\u001b[0m_original_iterator\u001b[0m \u001b[0;32mis\u001b[0m \u001b[0;32mnot\u001b[0m \u001b[0;32mNone\u001b[0m\u001b[0;34m\u001b[0m\u001b[0;34m\u001b[0m\u001b[0m\n\u001b[1;32m   1045\u001b[0m \u001b[0;34m\u001b[0m\u001b[0m\n\u001b[0;32m-> 1046\u001b[0;31m             \u001b[0;32mwhile\u001b[0m \u001b[0mself\u001b[0m\u001b[0;34m.\u001b[0m\u001b[0mdispatch_one_batch\u001b[0m\u001b[0;34m(\u001b[0m\u001b[0miterator\u001b[0m\u001b[0;34m)\u001b[0m\u001b[0;34m:\u001b[0m\u001b[0;34m\u001b[0m\u001b[0;34m\u001b[0m\u001b[0m\n\u001b[0m\u001b[1;32m   1047\u001b[0m                 \u001b[0;32mpass\u001b[0m\u001b[0;34m\u001b[0m\u001b[0;34m\u001b[0m\u001b[0m\n\u001b[1;32m   1048\u001b[0m \u001b[0;34m\u001b[0m\u001b[0m\n",
      "\u001b[0;32m~/opt/anaconda3/lib/python3.9/site-packages/joblib/parallel.py\u001b[0m in \u001b[0;36mdispatch_one_batch\u001b[0;34m(self, iterator)\u001b[0m\n\u001b[1;32m    859\u001b[0m                 \u001b[0;32mreturn\u001b[0m \u001b[0;32mFalse\u001b[0m\u001b[0;34m\u001b[0m\u001b[0;34m\u001b[0m\u001b[0m\n\u001b[1;32m    860\u001b[0m             \u001b[0;32melse\u001b[0m\u001b[0;34m:\u001b[0m\u001b[0;34m\u001b[0m\u001b[0;34m\u001b[0m\u001b[0m\n\u001b[0;32m--> 861\u001b[0;31m                 \u001b[0mself\u001b[0m\u001b[0;34m.\u001b[0m\u001b[0m_dispatch\u001b[0m\u001b[0;34m(\u001b[0m\u001b[0mtasks\u001b[0m\u001b[0;34m)\u001b[0m\u001b[0;34m\u001b[0m\u001b[0;34m\u001b[0m\u001b[0m\n\u001b[0m\u001b[1;32m    862\u001b[0m                 \u001b[0;32mreturn\u001b[0m \u001b[0;32mTrue\u001b[0m\u001b[0;34m\u001b[0m\u001b[0;34m\u001b[0m\u001b[0m\n\u001b[1;32m    863\u001b[0m \u001b[0;34m\u001b[0m\u001b[0m\n",
      "\u001b[0;32m~/opt/anaconda3/lib/python3.9/site-packages/joblib/parallel.py\u001b[0m in \u001b[0;36m_dispatch\u001b[0;34m(self, batch)\u001b[0m\n\u001b[1;32m    777\u001b[0m         \u001b[0;32mwith\u001b[0m \u001b[0mself\u001b[0m\u001b[0;34m.\u001b[0m\u001b[0m_lock\u001b[0m\u001b[0;34m:\u001b[0m\u001b[0;34m\u001b[0m\u001b[0;34m\u001b[0m\u001b[0m\n\u001b[1;32m    778\u001b[0m             \u001b[0mjob_idx\u001b[0m \u001b[0;34m=\u001b[0m \u001b[0mlen\u001b[0m\u001b[0;34m(\u001b[0m\u001b[0mself\u001b[0m\u001b[0;34m.\u001b[0m\u001b[0m_jobs\u001b[0m\u001b[0;34m)\u001b[0m\u001b[0;34m\u001b[0m\u001b[0;34m\u001b[0m\u001b[0m\n\u001b[0;32m--> 779\u001b[0;31m             \u001b[0mjob\u001b[0m \u001b[0;34m=\u001b[0m \u001b[0mself\u001b[0m\u001b[0;34m.\u001b[0m\u001b[0m_backend\u001b[0m\u001b[0;34m.\u001b[0m\u001b[0mapply_async\u001b[0m\u001b[0;34m(\u001b[0m\u001b[0mbatch\u001b[0m\u001b[0;34m,\u001b[0m \u001b[0mcallback\u001b[0m\u001b[0;34m=\u001b[0m\u001b[0mcb\u001b[0m\u001b[0;34m)\u001b[0m\u001b[0;34m\u001b[0m\u001b[0;34m\u001b[0m\u001b[0m\n\u001b[0m\u001b[1;32m    780\u001b[0m             \u001b[0;31m# A job can complete so quickly than its callback is\u001b[0m\u001b[0;34m\u001b[0m\u001b[0;34m\u001b[0m\u001b[0m\n\u001b[1;32m    781\u001b[0m             \u001b[0;31m# called before we get here, causing self._jobs to\u001b[0m\u001b[0;34m\u001b[0m\u001b[0;34m\u001b[0m\u001b[0m\n",
      "\u001b[0;32m~/opt/anaconda3/lib/python3.9/site-packages/joblib/_parallel_backends.py\u001b[0m in \u001b[0;36mapply_async\u001b[0;34m(self, func, callback)\u001b[0m\n\u001b[1;32m    206\u001b[0m     \u001b[0;32mdef\u001b[0m \u001b[0mapply_async\u001b[0m\u001b[0;34m(\u001b[0m\u001b[0mself\u001b[0m\u001b[0;34m,\u001b[0m \u001b[0mfunc\u001b[0m\u001b[0;34m,\u001b[0m \u001b[0mcallback\u001b[0m\u001b[0;34m=\u001b[0m\u001b[0;32mNone\u001b[0m\u001b[0;34m)\u001b[0m\u001b[0;34m:\u001b[0m\u001b[0;34m\u001b[0m\u001b[0;34m\u001b[0m\u001b[0m\n\u001b[1;32m    207\u001b[0m         \u001b[0;34m\"\"\"Schedule a func to be run\"\"\"\u001b[0m\u001b[0;34m\u001b[0m\u001b[0;34m\u001b[0m\u001b[0m\n\u001b[0;32m--> 208\u001b[0;31m         \u001b[0mresult\u001b[0m \u001b[0;34m=\u001b[0m \u001b[0mImmediateResult\u001b[0m\u001b[0;34m(\u001b[0m\u001b[0mfunc\u001b[0m\u001b[0;34m)\u001b[0m\u001b[0;34m\u001b[0m\u001b[0;34m\u001b[0m\u001b[0m\n\u001b[0m\u001b[1;32m    209\u001b[0m         \u001b[0;32mif\u001b[0m \u001b[0mcallback\u001b[0m\u001b[0;34m:\u001b[0m\u001b[0;34m\u001b[0m\u001b[0;34m\u001b[0m\u001b[0m\n\u001b[1;32m    210\u001b[0m             \u001b[0mcallback\u001b[0m\u001b[0;34m(\u001b[0m\u001b[0mresult\u001b[0m\u001b[0;34m)\u001b[0m\u001b[0;34m\u001b[0m\u001b[0;34m\u001b[0m\u001b[0m\n",
      "\u001b[0;32m~/opt/anaconda3/lib/python3.9/site-packages/joblib/_parallel_backends.py\u001b[0m in \u001b[0;36m__init__\u001b[0;34m(self, batch)\u001b[0m\n\u001b[1;32m    570\u001b[0m         \u001b[0;31m# Don't delay the application, to avoid keeping the input\u001b[0m\u001b[0;34m\u001b[0m\u001b[0;34m\u001b[0m\u001b[0m\n\u001b[1;32m    571\u001b[0m         \u001b[0;31m# arguments in memory\u001b[0m\u001b[0;34m\u001b[0m\u001b[0;34m\u001b[0m\u001b[0m\n\u001b[0;32m--> 572\u001b[0;31m         \u001b[0mself\u001b[0m\u001b[0;34m.\u001b[0m\u001b[0mresults\u001b[0m \u001b[0;34m=\u001b[0m \u001b[0mbatch\u001b[0m\u001b[0;34m(\u001b[0m\u001b[0;34m)\u001b[0m\u001b[0;34m\u001b[0m\u001b[0;34m\u001b[0m\u001b[0m\n\u001b[0m\u001b[1;32m    573\u001b[0m \u001b[0;34m\u001b[0m\u001b[0m\n\u001b[1;32m    574\u001b[0m     \u001b[0;32mdef\u001b[0m \u001b[0mget\u001b[0m\u001b[0;34m(\u001b[0m\u001b[0mself\u001b[0m\u001b[0;34m)\u001b[0m\u001b[0;34m:\u001b[0m\u001b[0;34m\u001b[0m\u001b[0;34m\u001b[0m\u001b[0m\n",
      "\u001b[0;32m~/opt/anaconda3/lib/python3.9/site-packages/joblib/parallel.py\u001b[0m in \u001b[0;36m__call__\u001b[0;34m(self)\u001b[0m\n\u001b[1;32m    260\u001b[0m         \u001b[0;31m# change the default number of processes to -1\u001b[0m\u001b[0;34m\u001b[0m\u001b[0;34m\u001b[0m\u001b[0m\n\u001b[1;32m    261\u001b[0m         \u001b[0;32mwith\u001b[0m \u001b[0mparallel_backend\u001b[0m\u001b[0;34m(\u001b[0m\u001b[0mself\u001b[0m\u001b[0;34m.\u001b[0m\u001b[0m_backend\u001b[0m\u001b[0;34m,\u001b[0m \u001b[0mn_jobs\u001b[0m\u001b[0;34m=\u001b[0m\u001b[0mself\u001b[0m\u001b[0;34m.\u001b[0m\u001b[0m_n_jobs\u001b[0m\u001b[0;34m)\u001b[0m\u001b[0;34m:\u001b[0m\u001b[0;34m\u001b[0m\u001b[0;34m\u001b[0m\u001b[0m\n\u001b[0;32m--> 262\u001b[0;31m             return [func(*args, **kwargs)\n\u001b[0m\u001b[1;32m    263\u001b[0m                     for func, args, kwargs in self.items]\n\u001b[1;32m    264\u001b[0m \u001b[0;34m\u001b[0m\u001b[0m\n",
      "\u001b[0;32m~/opt/anaconda3/lib/python3.9/site-packages/joblib/parallel.py\u001b[0m in \u001b[0;36m<listcomp>\u001b[0;34m(.0)\u001b[0m\n\u001b[1;32m    260\u001b[0m         \u001b[0;31m# change the default number of processes to -1\u001b[0m\u001b[0;34m\u001b[0m\u001b[0;34m\u001b[0m\u001b[0m\n\u001b[1;32m    261\u001b[0m         \u001b[0;32mwith\u001b[0m \u001b[0mparallel_backend\u001b[0m\u001b[0;34m(\u001b[0m\u001b[0mself\u001b[0m\u001b[0;34m.\u001b[0m\u001b[0m_backend\u001b[0m\u001b[0;34m,\u001b[0m \u001b[0mn_jobs\u001b[0m\u001b[0;34m=\u001b[0m\u001b[0mself\u001b[0m\u001b[0;34m.\u001b[0m\u001b[0m_n_jobs\u001b[0m\u001b[0;34m)\u001b[0m\u001b[0;34m:\u001b[0m\u001b[0;34m\u001b[0m\u001b[0;34m\u001b[0m\u001b[0m\n\u001b[0;32m--> 262\u001b[0;31m             return [func(*args, **kwargs)\n\u001b[0m\u001b[1;32m    263\u001b[0m                     for func, args, kwargs in self.items]\n\u001b[1;32m    264\u001b[0m \u001b[0;34m\u001b[0m\u001b[0m\n",
      "\u001b[0;32m~/opt/anaconda3/lib/python3.9/site-packages/sklearn/utils/fixes.py\u001b[0m in \u001b[0;36m__call__\u001b[0;34m(self, *args, **kwargs)\u001b[0m\n\u001b[1;32m    214\u001b[0m     \u001b[0;32mdef\u001b[0m \u001b[0m__call__\u001b[0m\u001b[0;34m(\u001b[0m\u001b[0mself\u001b[0m\u001b[0;34m,\u001b[0m \u001b[0;34m*\u001b[0m\u001b[0margs\u001b[0m\u001b[0;34m,\u001b[0m \u001b[0;34m**\u001b[0m\u001b[0mkwargs\u001b[0m\u001b[0;34m)\u001b[0m\u001b[0;34m:\u001b[0m\u001b[0;34m\u001b[0m\u001b[0;34m\u001b[0m\u001b[0m\n\u001b[1;32m    215\u001b[0m         \u001b[0;32mwith\u001b[0m \u001b[0mconfig_context\u001b[0m\u001b[0;34m(\u001b[0m\u001b[0;34m**\u001b[0m\u001b[0mself\u001b[0m\u001b[0;34m.\u001b[0m\u001b[0mconfig\u001b[0m\u001b[0;34m)\u001b[0m\u001b[0;34m:\u001b[0m\u001b[0;34m\u001b[0m\u001b[0;34m\u001b[0m\u001b[0m\n\u001b[0;32m--> 216\u001b[0;31m             \u001b[0;32mreturn\u001b[0m \u001b[0mself\u001b[0m\u001b[0;34m.\u001b[0m\u001b[0mfunction\u001b[0m\u001b[0;34m(\u001b[0m\u001b[0;34m*\u001b[0m\u001b[0margs\u001b[0m\u001b[0;34m,\u001b[0m \u001b[0;34m**\u001b[0m\u001b[0mkwargs\u001b[0m\u001b[0;34m)\u001b[0m\u001b[0;34m\u001b[0m\u001b[0;34m\u001b[0m\u001b[0m\n\u001b[0m\u001b[1;32m    217\u001b[0m \u001b[0;34m\u001b[0m\u001b[0m\n\u001b[1;32m    218\u001b[0m \u001b[0;34m\u001b[0m\u001b[0m\n",
      "\u001b[0;32m~/opt/anaconda3/lib/python3.9/site-packages/sklearn/model_selection/_validation.py\u001b[0m in \u001b[0;36m_fit_and_score\u001b[0;34m(estimator, X, y, scorer, train, test, verbose, parameters, fit_params, return_train_score, return_parameters, return_n_test_samples, return_times, return_estimator, split_progress, candidate_progress, error_score)\u001b[0m\n\u001b[1;32m    678\u001b[0m             \u001b[0mestimator\u001b[0m\u001b[0;34m.\u001b[0m\u001b[0mfit\u001b[0m\u001b[0;34m(\u001b[0m\u001b[0mX_train\u001b[0m\u001b[0;34m,\u001b[0m \u001b[0;34m**\u001b[0m\u001b[0mfit_params\u001b[0m\u001b[0;34m)\u001b[0m\u001b[0;34m\u001b[0m\u001b[0;34m\u001b[0m\u001b[0m\n\u001b[1;32m    679\u001b[0m         \u001b[0;32melse\u001b[0m\u001b[0;34m:\u001b[0m\u001b[0;34m\u001b[0m\u001b[0;34m\u001b[0m\u001b[0m\n\u001b[0;32m--> 680\u001b[0;31m             \u001b[0mestimator\u001b[0m\u001b[0;34m.\u001b[0m\u001b[0mfit\u001b[0m\u001b[0;34m(\u001b[0m\u001b[0mX_train\u001b[0m\u001b[0;34m,\u001b[0m \u001b[0my_train\u001b[0m\u001b[0;34m,\u001b[0m \u001b[0;34m**\u001b[0m\u001b[0mfit_params\u001b[0m\u001b[0;34m)\u001b[0m\u001b[0;34m\u001b[0m\u001b[0;34m\u001b[0m\u001b[0m\n\u001b[0m\u001b[1;32m    681\u001b[0m \u001b[0;34m\u001b[0m\u001b[0m\n\u001b[1;32m    682\u001b[0m     \u001b[0;32mexcept\u001b[0m \u001b[0mException\u001b[0m\u001b[0;34m:\u001b[0m\u001b[0;34m\u001b[0m\u001b[0;34m\u001b[0m\u001b[0m\n",
      "\u001b[0;32m~/opt/anaconda3/lib/python3.9/site-packages/xgboost/core.py\u001b[0m in \u001b[0;36minner_f\u001b[0;34m(*args, **kwargs)\u001b[0m\n\u001b[1;32m    618\u001b[0m             \u001b[0;32mfor\u001b[0m \u001b[0mk\u001b[0m\u001b[0;34m,\u001b[0m \u001b[0marg\u001b[0m \u001b[0;32min\u001b[0m \u001b[0mzip\u001b[0m\u001b[0;34m(\u001b[0m\u001b[0msig\u001b[0m\u001b[0;34m.\u001b[0m\u001b[0mparameters\u001b[0m\u001b[0;34m,\u001b[0m \u001b[0margs\u001b[0m\u001b[0;34m)\u001b[0m\u001b[0;34m:\u001b[0m\u001b[0;34m\u001b[0m\u001b[0;34m\u001b[0m\u001b[0m\n\u001b[1;32m    619\u001b[0m                 \u001b[0mkwargs\u001b[0m\u001b[0;34m[\u001b[0m\u001b[0mk\u001b[0m\u001b[0;34m]\u001b[0m \u001b[0;34m=\u001b[0m \u001b[0marg\u001b[0m\u001b[0;34m\u001b[0m\u001b[0;34m\u001b[0m\u001b[0m\n\u001b[0;32m--> 620\u001b[0;31m             \u001b[0;32mreturn\u001b[0m \u001b[0mfunc\u001b[0m\u001b[0;34m(\u001b[0m\u001b[0;34m**\u001b[0m\u001b[0mkwargs\u001b[0m\u001b[0;34m)\u001b[0m\u001b[0;34m\u001b[0m\u001b[0;34m\u001b[0m\u001b[0m\n\u001b[0m\u001b[1;32m    621\u001b[0m \u001b[0;34m\u001b[0m\u001b[0m\n\u001b[1;32m    622\u001b[0m         \u001b[0;32mreturn\u001b[0m \u001b[0minner_f\u001b[0m\u001b[0;34m\u001b[0m\u001b[0;34m\u001b[0m\u001b[0m\n",
      "\u001b[0;32m~/opt/anaconda3/lib/python3.9/site-packages/xgboost/sklearn.py\u001b[0m in \u001b[0;36mfit\u001b[0;34m(self, X, y, sample_weight, base_margin, eval_set, eval_metric, early_stopping_rounds, verbose, xgb_model, sample_weight_eval_set, base_margin_eval_set, feature_weights, callbacks)\u001b[0m\n\u001b[1;32m   1023\u001b[0m                 \u001b[0mxgb_model\u001b[0m\u001b[0;34m,\u001b[0m \u001b[0meval_metric\u001b[0m\u001b[0;34m,\u001b[0m \u001b[0mparams\u001b[0m\u001b[0;34m,\u001b[0m \u001b[0mearly_stopping_rounds\u001b[0m\u001b[0;34m,\u001b[0m \u001b[0mcallbacks\u001b[0m\u001b[0;34m\u001b[0m\u001b[0;34m\u001b[0m\u001b[0m\n\u001b[1;32m   1024\u001b[0m             )\n\u001b[0;32m-> 1025\u001b[0;31m             self._Booster = train(\n\u001b[0m\u001b[1;32m   1026\u001b[0m                 \u001b[0mparams\u001b[0m\u001b[0;34m,\u001b[0m\u001b[0;34m\u001b[0m\u001b[0;34m\u001b[0m\u001b[0m\n\u001b[1;32m   1027\u001b[0m                 \u001b[0mtrain_dmatrix\u001b[0m\u001b[0;34m,\u001b[0m\u001b[0;34m\u001b[0m\u001b[0;34m\u001b[0m\u001b[0m\n",
      "\u001b[0;32m~/opt/anaconda3/lib/python3.9/site-packages/xgboost/core.py\u001b[0m in \u001b[0;36minner_f\u001b[0;34m(*args, **kwargs)\u001b[0m\n\u001b[1;32m    618\u001b[0m             \u001b[0;32mfor\u001b[0m \u001b[0mk\u001b[0m\u001b[0;34m,\u001b[0m \u001b[0marg\u001b[0m \u001b[0;32min\u001b[0m \u001b[0mzip\u001b[0m\u001b[0;34m(\u001b[0m\u001b[0msig\u001b[0m\u001b[0;34m.\u001b[0m\u001b[0mparameters\u001b[0m\u001b[0;34m,\u001b[0m \u001b[0margs\u001b[0m\u001b[0;34m)\u001b[0m\u001b[0;34m:\u001b[0m\u001b[0;34m\u001b[0m\u001b[0;34m\u001b[0m\u001b[0m\n\u001b[1;32m    619\u001b[0m                 \u001b[0mkwargs\u001b[0m\u001b[0;34m[\u001b[0m\u001b[0mk\u001b[0m\u001b[0;34m]\u001b[0m \u001b[0;34m=\u001b[0m \u001b[0marg\u001b[0m\u001b[0;34m\u001b[0m\u001b[0;34m\u001b[0m\u001b[0m\n\u001b[0;32m--> 620\u001b[0;31m             \u001b[0;32mreturn\u001b[0m \u001b[0mfunc\u001b[0m\u001b[0;34m(\u001b[0m\u001b[0;34m**\u001b[0m\u001b[0mkwargs\u001b[0m\u001b[0;34m)\u001b[0m\u001b[0;34m\u001b[0m\u001b[0;34m\u001b[0m\u001b[0m\n\u001b[0m\u001b[1;32m    621\u001b[0m \u001b[0;34m\u001b[0m\u001b[0m\n\u001b[1;32m    622\u001b[0m         \u001b[0;32mreturn\u001b[0m \u001b[0minner_f\u001b[0m\u001b[0;34m\u001b[0m\u001b[0;34m\u001b[0m\u001b[0m\n",
      "\u001b[0;32m~/opt/anaconda3/lib/python3.9/site-packages/xgboost/training.py\u001b[0m in \u001b[0;36mtrain\u001b[0;34m(params, dtrain, num_boost_round, evals, obj, feval, maximize, early_stopping_rounds, evals_result, verbose_eval, xgb_model, callbacks, custom_metric)\u001b[0m\n\u001b[1;32m    183\u001b[0m         \u001b[0;32mif\u001b[0m \u001b[0mcb_container\u001b[0m\u001b[0;34m.\u001b[0m\u001b[0mbefore_iteration\u001b[0m\u001b[0;34m(\u001b[0m\u001b[0mbst\u001b[0m\u001b[0;34m,\u001b[0m \u001b[0mi\u001b[0m\u001b[0;34m,\u001b[0m \u001b[0mdtrain\u001b[0m\u001b[0;34m,\u001b[0m \u001b[0mevals\u001b[0m\u001b[0;34m)\u001b[0m\u001b[0;34m:\u001b[0m\u001b[0;34m\u001b[0m\u001b[0;34m\u001b[0m\u001b[0m\n\u001b[1;32m    184\u001b[0m             \u001b[0;32mbreak\u001b[0m\u001b[0;34m\u001b[0m\u001b[0;34m\u001b[0m\u001b[0m\n\u001b[0;32m--> 185\u001b[0;31m         \u001b[0mbst\u001b[0m\u001b[0;34m.\u001b[0m\u001b[0mupdate\u001b[0m\u001b[0;34m(\u001b[0m\u001b[0mdtrain\u001b[0m\u001b[0;34m,\u001b[0m \u001b[0mi\u001b[0m\u001b[0;34m,\u001b[0m \u001b[0mobj\u001b[0m\u001b[0;34m)\u001b[0m\u001b[0;34m\u001b[0m\u001b[0;34m\u001b[0m\u001b[0m\n\u001b[0m\u001b[1;32m    186\u001b[0m         \u001b[0;32mif\u001b[0m \u001b[0mcb_container\u001b[0m\u001b[0;34m.\u001b[0m\u001b[0mafter_iteration\u001b[0m\u001b[0;34m(\u001b[0m\u001b[0mbst\u001b[0m\u001b[0;34m,\u001b[0m \u001b[0mi\u001b[0m\u001b[0;34m,\u001b[0m \u001b[0mdtrain\u001b[0m\u001b[0;34m,\u001b[0m \u001b[0mevals\u001b[0m\u001b[0;34m)\u001b[0m\u001b[0;34m:\u001b[0m\u001b[0;34m\u001b[0m\u001b[0;34m\u001b[0m\u001b[0m\n\u001b[1;32m    187\u001b[0m             \u001b[0;32mbreak\u001b[0m\u001b[0;34m\u001b[0m\u001b[0;34m\u001b[0m\u001b[0m\n",
      "\u001b[0;32m~/opt/anaconda3/lib/python3.9/site-packages/xgboost/core.py\u001b[0m in \u001b[0;36mupdate\u001b[0;34m(self, dtrain, iteration, fobj)\u001b[0m\n\u001b[1;32m   1916\u001b[0m \u001b[0;34m\u001b[0m\u001b[0m\n\u001b[1;32m   1917\u001b[0m         \u001b[0;32mif\u001b[0m \u001b[0mfobj\u001b[0m \u001b[0;32mis\u001b[0m \u001b[0;32mNone\u001b[0m\u001b[0;34m:\u001b[0m\u001b[0;34m\u001b[0m\u001b[0;34m\u001b[0m\u001b[0m\n\u001b[0;32m-> 1918\u001b[0;31m             _check_call(_LIB.XGBoosterUpdateOneIter(self.handle,\n\u001b[0m\u001b[1;32m   1919\u001b[0m                                                     \u001b[0mctypes\u001b[0m\u001b[0;34m.\u001b[0m\u001b[0mc_int\u001b[0m\u001b[0;34m(\u001b[0m\u001b[0miteration\u001b[0m\u001b[0;34m)\u001b[0m\u001b[0;34m,\u001b[0m\u001b[0;34m\u001b[0m\u001b[0;34m\u001b[0m\u001b[0m\n\u001b[1;32m   1920\u001b[0m                                                     dtrain.handle))\n",
      "\u001b[0;31mKeyboardInterrupt\u001b[0m: "
     ]
    }
   ],
   "source": [
    "smape = []\n",
    "from tqdm import tqdm\n",
    "\n",
    "columns=[\"Demand\", 'date', 'sales_qty', 'stock_qty', 'Promo',\n",
    "                                  'Deficit', 'NoFilter', 'NoneDeficit', 'product_id', 'location_id']\n",
    "\n",
    "for i in tqdm(range(60)):\n",
    "    if len(dbscan_df[dbscan_df.cluster == i]) >= 5:\n",
    "        print(xbgboost_train(dbscan_df[dbscan_df.cluster == i], columns))\n",
    "        smape += xbgboost_train(dbscan_df[dbscan_df.cluster == i], columns)"
   ]
  },
  {
   "cell_type": "code",
   "execution_count": 446,
   "id": "ec9d5dd3",
   "metadata": {
    "ExecuteTime": {
     "end_time": "2023-05-21T19:11:49.542407Z",
     "start_time": "2023-05-21T19:11:49.530230Z"
    }
   },
   "outputs": [
    {
     "data": {
      "text/plain": [
       "array([], dtype=float64)"
      ]
     },
     "execution_count": 446,
     "metadata": {},
     "output_type": "execute_result"
    }
   ],
   "source": [
    "smape"
   ]
  },
  {
   "cell_type": "code",
   "execution_count": null,
   "id": "76bb5d76",
   "metadata": {},
   "outputs": [],
   "source": []
  }
 ],
 "metadata": {
  "hide_input": false,
  "kernelspec": {
   "display_name": "Python 3 (ipykernel)",
   "language": "python",
   "name": "python3"
  },
  "language_info": {
   "codemirror_mode": {
    "name": "ipython",
    "version": 3
   },
   "file_extension": ".py",
   "mimetype": "text/x-python",
   "name": "python",
   "nbconvert_exporter": "python",
   "pygments_lexer": "ipython3",
   "version": "3.9.13"
  },
  "toc": {
   "base_numbering": 1,
   "nav_menu": {
    "height": "262px",
    "width": "250px"
   },
   "number_sections": true,
   "sideBar": true,
   "skip_h1_title": false,
   "title_cell": "Table of Contents",
   "title_sidebar": "Contents",
   "toc_cell": false,
   "toc_position": {
    "height": "calc(100% - 180px)",
    "left": "10px",
    "top": "150px",
    "width": "297.59375px"
   },
   "toc_section_display": true,
   "toc_window_display": false
  },
  "varInspector": {
   "cols": {
    "lenName": 16,
    "lenType": 16,
    "lenVar": 40
   },
   "kernels_config": {
    "python": {
     "delete_cmd_postfix": "",
     "delete_cmd_prefix": "del ",
     "library": "var_list.py",
     "varRefreshCmd": "print(var_dic_list())"
    },
    "r": {
     "delete_cmd_postfix": ") ",
     "delete_cmd_prefix": "rm(",
     "library": "var_list.r",
     "varRefreshCmd": "cat(var_dic_list()) "
    }
   },
   "types_to_exclude": [
    "module",
    "function",
    "builtin_function_or_method",
    "instance",
    "_Feature"
   ],
   "window_display": false
  },
  "widgets": {
   "application/vnd.jupyter.widget-state+json": {
    "state": {},
    "version_major": 2,
    "version_minor": 0
   }
  }
 },
 "nbformat": 4,
 "nbformat_minor": 5
}
