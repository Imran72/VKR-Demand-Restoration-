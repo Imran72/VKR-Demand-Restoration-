{
 "cells": [
  {
   "cell_type": "code",
   "execution_count": 48,
   "id": "05fe85b3",
   "metadata": {
    "ExecuteTime": {
     "end_time": "2023-05-21T11:13:33.705616Z",
     "start_time": "2023-05-21T11:13:33.693686Z"
    }
   },
   "outputs": [],
   "source": [
    "import numpy as np\n",
    "import pandas as pd\n",
    "import math\n",
    "import random\n",
    "\n",
    "\n",
    "import optuna\n",
    "import xgboost as xgb\n",
    "from sklearn.compose import ColumnTransformer\n",
    "from sklearn.linear_model import Ridge\n",
    "from sklearn.metrics import make_scorer, mean_squared_error\n",
    "from sklearn.model_selection import cross_val_score, train_test_split\n",
    "from sklearn.pipeline import Pipeline\n",
    "from sklearn.preprocessing import OneHotEncoder, StandardScaler\n",
    "import restore_demand_beta as dem\n",
    "\n",
    "import warnings\n",
    "warnings.filterwarnings('ignore')"
   ]
  },
  {
   "cell_type": "code",
   "execution_count": 49,
   "id": "a0fb3e1e",
   "metadata": {
    "ExecuteTime": {
     "end_time": "2023-05-21T11:13:33.975061Z",
     "start_time": "2023-05-21T11:13:33.891250Z"
    }
   },
   "outputs": [],
   "source": [
    "sales = pd.read_csv('data/DFR_SALES.csv')[['PRODUCT_ID', 'location_id', 'PERIOD_DT', 'SALES_QTY', 'COST']]\n",
    "sales.rename(columns = {'PRODUCT_ID':'product_id', 'location_id':'location_id', 'PERIOD_DT' : 'date', 'SALES_QTY': 'sales_qty', 'COST' : 'cost'}, inplace = True)\n",
    "\n",
    "\n",
    "sales['date'] = pd.to_datetime(sales['date'])"
   ]
  },
  {
   "cell_type": "code",
   "execution_count": 50,
   "id": "a4ffa2b8",
   "metadata": {
    "ExecuteTime": {
     "end_time": "2023-05-21T11:13:34.064480Z",
     "start_time": "2023-05-21T11:13:34.056214Z"
    }
   },
   "outputs": [
    {
     "data": {
      "text/html": [
       "<div>\n",
       "<style scoped>\n",
       "    .dataframe tbody tr th:only-of-type {\n",
       "        vertical-align: middle;\n",
       "    }\n",
       "\n",
       "    .dataframe tbody tr th {\n",
       "        vertical-align: top;\n",
       "    }\n",
       "\n",
       "    .dataframe thead th {\n",
       "        text-align: right;\n",
       "    }\n",
       "</style>\n",
       "<table border=\"1\" class=\"dataframe\">\n",
       "  <thead>\n",
       "    <tr style=\"text-align: right;\">\n",
       "      <th></th>\n",
       "      <th>product_id</th>\n",
       "      <th>location_id</th>\n",
       "      <th>date</th>\n",
       "      <th>sales_qty</th>\n",
       "      <th>cost</th>\n",
       "    </tr>\n",
       "  </thead>\n",
       "  <tbody>\n",
       "    <tr>\n",
       "      <th>0</th>\n",
       "      <td>8000054507</td>\n",
       "      <td>5637144625</td>\n",
       "      <td>2018-04-01</td>\n",
       "      <td>13</td>\n",
       "      <td>717.50</td>\n",
       "    </tr>\n",
       "    <tr>\n",
       "      <th>1</th>\n",
       "      <td>8000054507</td>\n",
       "      <td>5637144625</td>\n",
       "      <td>2018-04-02</td>\n",
       "      <td>1</td>\n",
       "      <td>717.50</td>\n",
       "    </tr>\n",
       "    <tr>\n",
       "      <th>2</th>\n",
       "      <td>8000054507</td>\n",
       "      <td>5637144625</td>\n",
       "      <td>2018-04-12</td>\n",
       "      <td>4</td>\n",
       "      <td>717.50</td>\n",
       "    </tr>\n",
       "    <tr>\n",
       "      <th>3</th>\n",
       "      <td>8000054507</td>\n",
       "      <td>5637144625</td>\n",
       "      <td>2018-04-14</td>\n",
       "      <td>8</td>\n",
       "      <td>717.50</td>\n",
       "    </tr>\n",
       "    <tr>\n",
       "      <th>4</th>\n",
       "      <td>8000054507</td>\n",
       "      <td>5637144625</td>\n",
       "      <td>2018-04-15</td>\n",
       "      <td>1</td>\n",
       "      <td>717.50</td>\n",
       "    </tr>\n",
       "    <tr>\n",
       "      <th>...</th>\n",
       "      <td>...</td>\n",
       "      <td>...</td>\n",
       "      <td>...</td>\n",
       "      <td>...</td>\n",
       "      <td>...</td>\n",
       "    </tr>\n",
       "    <tr>\n",
       "      <th>24447</th>\n",
       "      <td>9000400501</td>\n",
       "      <td>9000136500</td>\n",
       "      <td>2020-03-10</td>\n",
       "      <td>4</td>\n",
       "      <td>4.43</td>\n",
       "    </tr>\n",
       "    <tr>\n",
       "      <th>24448</th>\n",
       "      <td>9000400501</td>\n",
       "      <td>9000136500</td>\n",
       "      <td>2020-03-11</td>\n",
       "      <td>1</td>\n",
       "      <td>4.43</td>\n",
       "    </tr>\n",
       "    <tr>\n",
       "      <th>24449</th>\n",
       "      <td>9000400501</td>\n",
       "      <td>9000136500</td>\n",
       "      <td>2020-03-12</td>\n",
       "      <td>1</td>\n",
       "      <td>4.43</td>\n",
       "    </tr>\n",
       "    <tr>\n",
       "      <th>24450</th>\n",
       "      <td>9000400501</td>\n",
       "      <td>9000136500</td>\n",
       "      <td>2020-03-15</td>\n",
       "      <td>1</td>\n",
       "      <td>4.43</td>\n",
       "    </tr>\n",
       "    <tr>\n",
       "      <th>24451</th>\n",
       "      <td>9000400501</td>\n",
       "      <td>9000136500</td>\n",
       "      <td>2020-03-19</td>\n",
       "      <td>1</td>\n",
       "      <td>4.43</td>\n",
       "    </tr>\n",
       "  </tbody>\n",
       "</table>\n",
       "<p>24452 rows × 5 columns</p>\n",
       "</div>"
      ],
      "text/plain": [
       "       product_id  location_id       date  sales_qty    cost\n",
       "0      8000054507   5637144625 2018-04-01         13  717.50\n",
       "1      8000054507   5637144625 2018-04-02          1  717.50\n",
       "2      8000054507   5637144625 2018-04-12          4  717.50\n",
       "3      8000054507   5637144625 2018-04-14          8  717.50\n",
       "4      8000054507   5637144625 2018-04-15          1  717.50\n",
       "...           ...          ...        ...        ...     ...\n",
       "24447  9000400501   9000136500 2020-03-10          4    4.43\n",
       "24448  9000400501   9000136500 2020-03-11          1    4.43\n",
       "24449  9000400501   9000136500 2020-03-12          1    4.43\n",
       "24450  9000400501   9000136500 2020-03-15          1    4.43\n",
       "24451  9000400501   9000136500 2020-03-19          1    4.43\n",
       "\n",
       "[24452 rows x 5 columns]"
      ]
     },
     "execution_count": 50,
     "metadata": {},
     "output_type": "execute_result"
    }
   ],
   "source": [
    "sales"
   ]
  },
  {
   "cell_type": "code",
   "execution_count": 51,
   "id": "c902689e",
   "metadata": {
    "ExecuteTime": {
     "end_time": "2023-05-21T11:13:34.322093Z",
     "start_time": "2023-05-21T11:13:34.222166Z"
    }
   },
   "outputs": [],
   "source": [
    "stock = pd.read_csv('data/DFR_STOCK.csv')[['PRODUCT_ID', 'LOCATION_ID', 'PERIOD_DT', 'STOCK_QTY']]\n",
    "stock.rename(columns = {'PRODUCT_ID':'product_id', 'LOCATION_ID':'location_id', 'PERIOD_DT' : 'date', 'STOCK_QTY': 'stock_qty'}, inplace = True)\n",
    "stock['date'] = pd.to_datetime(stock['date'])"
   ]
  },
  {
   "cell_type": "code",
   "execution_count": 52,
   "id": "e7240221",
   "metadata": {
    "ExecuteTime": {
     "end_time": "2023-05-21T11:13:34.439236Z",
     "start_time": "2023-05-21T11:13:34.425225Z"
    }
   },
   "outputs": [],
   "source": [
    "result = pd.merge(stock, sales, how=\"left\", on=[\"product_id\", \"location_id\", \"date\"])"
   ]
  },
  {
   "cell_type": "code",
   "execution_count": 53,
   "id": "bcce4f98",
   "metadata": {
    "ExecuteTime": {
     "end_time": "2023-05-21T11:13:34.777298Z",
     "start_time": "2023-05-21T11:13:34.753560Z"
    }
   },
   "outputs": [
    {
     "data": {
      "text/html": [
       "<div>\n",
       "<style scoped>\n",
       "    .dataframe tbody tr th:only-of-type {\n",
       "        vertical-align: middle;\n",
       "    }\n",
       "\n",
       "    .dataframe tbody tr th {\n",
       "        vertical-align: top;\n",
       "    }\n",
       "\n",
       "    .dataframe thead th {\n",
       "        text-align: right;\n",
       "    }\n",
       "</style>\n",
       "<table border=\"1\" class=\"dataframe\">\n",
       "  <thead>\n",
       "    <tr style=\"text-align: right;\">\n",
       "      <th></th>\n",
       "      <th>product_id</th>\n",
       "      <th>location_id</th>\n",
       "      <th>date</th>\n",
       "      <th>stock_qty</th>\n",
       "      <th>sales_qty</th>\n",
       "      <th>cost</th>\n",
       "    </tr>\n",
       "  </thead>\n",
       "  <tbody>\n",
       "    <tr>\n",
       "      <th>0</th>\n",
       "      <td>8000054507</td>\n",
       "      <td>5637146288</td>\n",
       "      <td>2020-06-09</td>\n",
       "      <td>0</td>\n",
       "      <td>1.0</td>\n",
       "      <td>717.5000</td>\n",
       "    </tr>\n",
       "    <tr>\n",
       "      <th>1</th>\n",
       "      <td>8000054507</td>\n",
       "      <td>9000135750</td>\n",
       "      <td>2020-06-13</td>\n",
       "      <td>1</td>\n",
       "      <td>1.0</td>\n",
       "      <td>717.5000</td>\n",
       "    </tr>\n",
       "    <tr>\n",
       "      <th>2</th>\n",
       "      <td>8000054507</td>\n",
       "      <td>5637146288</td>\n",
       "      <td>2020-06-08</td>\n",
       "      <td>1</td>\n",
       "      <td>1.0</td>\n",
       "      <td>717.5000</td>\n",
       "    </tr>\n",
       "    <tr>\n",
       "      <th>3</th>\n",
       "      <td>8000145055</td>\n",
       "      <td>5637146303</td>\n",
       "      <td>2020-06-16</td>\n",
       "      <td>4</td>\n",
       "      <td>0.0</td>\n",
       "      <td>83.7728</td>\n",
       "    </tr>\n",
       "    <tr>\n",
       "      <th>4</th>\n",
       "      <td>9000883500</td>\n",
       "      <td>5637146282</td>\n",
       "      <td>2020-06-15</td>\n",
       "      <td>4</td>\n",
       "      <td>NaN</td>\n",
       "      <td>NaN</td>\n",
       "    </tr>\n",
       "    <tr>\n",
       "      <th>...</th>\n",
       "      <td>...</td>\n",
       "      <td>...</td>\n",
       "      <td>...</td>\n",
       "      <td>...</td>\n",
       "      <td>...</td>\n",
       "      <td>...</td>\n",
       "    </tr>\n",
       "    <tr>\n",
       "      <th>49867</th>\n",
       "      <td>8000089444</td>\n",
       "      <td>5637149414</td>\n",
       "      <td>2017-04-20</td>\n",
       "      <td>19</td>\n",
       "      <td>NaN</td>\n",
       "      <td>NaN</td>\n",
       "    </tr>\n",
       "    <tr>\n",
       "      <th>49868</th>\n",
       "      <td>8000089444</td>\n",
       "      <td>5637149414</td>\n",
       "      <td>2017-04-12</td>\n",
       "      <td>20</td>\n",
       "      <td>NaN</td>\n",
       "      <td>NaN</td>\n",
       "    </tr>\n",
       "    <tr>\n",
       "      <th>49869</th>\n",
       "      <td>8000089444</td>\n",
       "      <td>5637149414</td>\n",
       "      <td>2017-04-06</td>\n",
       "      <td>21</td>\n",
       "      <td>NaN</td>\n",
       "      <td>NaN</td>\n",
       "    </tr>\n",
       "    <tr>\n",
       "      <th>49870</th>\n",
       "      <td>9000271526</td>\n",
       "      <td>5637145298</td>\n",
       "      <td>2017-09-29</td>\n",
       "      <td>28</td>\n",
       "      <td>NaN</td>\n",
       "      <td>NaN</td>\n",
       "    </tr>\n",
       "    <tr>\n",
       "      <th>49871</th>\n",
       "      <td>8000089444</td>\n",
       "      <td>5637149414</td>\n",
       "      <td>2017-08-12</td>\n",
       "      <td>0</td>\n",
       "      <td>NaN</td>\n",
       "      <td>NaN</td>\n",
       "    </tr>\n",
       "  </tbody>\n",
       "</table>\n",
       "<p>49872 rows × 6 columns</p>\n",
       "</div>"
      ],
      "text/plain": [
       "       product_id  location_id       date  stock_qty  sales_qty      cost\n",
       "0      8000054507   5637146288 2020-06-09          0        1.0  717.5000\n",
       "1      8000054507   9000135750 2020-06-13          1        1.0  717.5000\n",
       "2      8000054507   5637146288 2020-06-08          1        1.0  717.5000\n",
       "3      8000145055   5637146303 2020-06-16          4        0.0   83.7728\n",
       "4      9000883500   5637146282 2020-06-15          4        NaN       NaN\n",
       "...           ...          ...        ...        ...        ...       ...\n",
       "49867  8000089444   5637149414 2017-04-20         19        NaN       NaN\n",
       "49868  8000089444   5637149414 2017-04-12         20        NaN       NaN\n",
       "49869  8000089444   5637149414 2017-04-06         21        NaN       NaN\n",
       "49870  9000271526   5637145298 2017-09-29         28        NaN       NaN\n",
       "49871  8000089444   5637149414 2017-08-12          0        NaN       NaN\n",
       "\n",
       "[49872 rows x 6 columns]"
      ]
     },
     "execution_count": 53,
     "metadata": {},
     "output_type": "execute_result"
    }
   ],
   "source": [
    "result"
   ]
  },
  {
   "cell_type": "code",
   "execution_count": 56,
   "id": "66dedbe3",
   "metadata": {
    "ExecuteTime": {
     "end_time": "2023-05-21T11:13:59.786106Z",
     "start_time": "2023-05-21T11:13:59.456610Z"
    }
   },
   "outputs": [],
   "source": [
    "result.to_csv('resultData.csv', index=False)"
   ]
  },
  {
   "cell_type": "code",
   "execution_count": 65,
   "id": "bc6a7002",
   "metadata": {
    "ExecuteTime": {
     "end_time": "2023-05-21T11:14:18.875673Z",
     "start_time": "2023-05-21T11:14:18.824862Z"
    }
   },
   "outputs": [],
   "source": [
    "resultData = pd.read_csv('resultData.csv')\n"
   ]
  },
  {
   "cell_type": "code",
   "execution_count": 66,
   "id": "df06e57b",
   "metadata": {
    "ExecuteTime": {
     "end_time": "2023-05-21T11:14:19.307367Z",
     "start_time": "2023-05-21T11:14:19.286142Z"
    }
   },
   "outputs": [
    {
     "data": {
      "text/html": [
       "<div>\n",
       "<style scoped>\n",
       "    .dataframe tbody tr th:only-of-type {\n",
       "        vertical-align: middle;\n",
       "    }\n",
       "\n",
       "    .dataframe tbody tr th {\n",
       "        vertical-align: top;\n",
       "    }\n",
       "\n",
       "    .dataframe thead th {\n",
       "        text-align: right;\n",
       "    }\n",
       "</style>\n",
       "<table border=\"1\" class=\"dataframe\">\n",
       "  <thead>\n",
       "    <tr style=\"text-align: right;\">\n",
       "      <th></th>\n",
       "      <th>product_id</th>\n",
       "      <th>location_id</th>\n",
       "      <th>date</th>\n",
       "      <th>sales_qty</th>\n",
       "      <th>stock_qty</th>\n",
       "      <th>cost</th>\n",
       "      <th>promo</th>\n",
       "    </tr>\n",
       "  </thead>\n",
       "  <tbody>\n",
       "    <tr>\n",
       "      <th>0</th>\n",
       "      <td>8000054507</td>\n",
       "      <td>5637146288</td>\n",
       "      <td>2020-06-09 00:00:00</td>\n",
       "      <td>1.0</td>\n",
       "      <td>0</td>\n",
       "      <td>717.5000</td>\n",
       "      <td>0</td>\n",
       "    </tr>\n",
       "    <tr>\n",
       "      <th>1</th>\n",
       "      <td>8000054507</td>\n",
       "      <td>9000135750</td>\n",
       "      <td>2020-06-13 00:00:00</td>\n",
       "      <td>1.0</td>\n",
       "      <td>1</td>\n",
       "      <td>717.5000</td>\n",
       "      <td>0</td>\n",
       "    </tr>\n",
       "    <tr>\n",
       "      <th>2</th>\n",
       "      <td>8000054507</td>\n",
       "      <td>5637146288</td>\n",
       "      <td>2020-06-08 00:00:00</td>\n",
       "      <td>1.0</td>\n",
       "      <td>1</td>\n",
       "      <td>717.5000</td>\n",
       "      <td>0</td>\n",
       "    </tr>\n",
       "    <tr>\n",
       "      <th>3</th>\n",
       "      <td>8000145055</td>\n",
       "      <td>5637146303</td>\n",
       "      <td>2020-06-16 00:00:00</td>\n",
       "      <td>0.0</td>\n",
       "      <td>4</td>\n",
       "      <td>83.7728</td>\n",
       "      <td>0</td>\n",
       "    </tr>\n",
       "    <tr>\n",
       "      <th>4</th>\n",
       "      <td>9000883500</td>\n",
       "      <td>5637146282</td>\n",
       "      <td>2020-06-15 00:00:00</td>\n",
       "      <td>NaN</td>\n",
       "      <td>4</td>\n",
       "      <td>NaN</td>\n",
       "      <td>0</td>\n",
       "    </tr>\n",
       "    <tr>\n",
       "      <th>...</th>\n",
       "      <td>...</td>\n",
       "      <td>...</td>\n",
       "      <td>...</td>\n",
       "      <td>...</td>\n",
       "      <td>...</td>\n",
       "      <td>...</td>\n",
       "      <td>...</td>\n",
       "    </tr>\n",
       "    <tr>\n",
       "      <th>50245</th>\n",
       "      <td>8000089444</td>\n",
       "      <td>5637149414</td>\n",
       "      <td>2017-04-20 00:00:00</td>\n",
       "      <td>NaN</td>\n",
       "      <td>19</td>\n",
       "      <td>NaN</td>\n",
       "      <td>1</td>\n",
       "    </tr>\n",
       "    <tr>\n",
       "      <th>50246</th>\n",
       "      <td>8000089444</td>\n",
       "      <td>5637149414</td>\n",
       "      <td>2017-04-12 00:00:00</td>\n",
       "      <td>NaN</td>\n",
       "      <td>20</td>\n",
       "      <td>NaN</td>\n",
       "      <td>1</td>\n",
       "    </tr>\n",
       "    <tr>\n",
       "      <th>50247</th>\n",
       "      <td>8000089444</td>\n",
       "      <td>5637149414</td>\n",
       "      <td>2017-04-06 00:00:00</td>\n",
       "      <td>NaN</td>\n",
       "      <td>21</td>\n",
       "      <td>NaN</td>\n",
       "      <td>1</td>\n",
       "    </tr>\n",
       "    <tr>\n",
       "      <th>50248</th>\n",
       "      <td>9000271526</td>\n",
       "      <td>5637145298</td>\n",
       "      <td>2017-09-29 00:00:00</td>\n",
       "      <td>NaN</td>\n",
       "      <td>28</td>\n",
       "      <td>NaN</td>\n",
       "      <td>1</td>\n",
       "    </tr>\n",
       "    <tr>\n",
       "      <th>50249</th>\n",
       "      <td>8000089444</td>\n",
       "      <td>5637149414</td>\n",
       "      <td>2017-08-12 00:00:00</td>\n",
       "      <td>NaN</td>\n",
       "      <td>0</td>\n",
       "      <td>NaN</td>\n",
       "      <td>1</td>\n",
       "    </tr>\n",
       "  </tbody>\n",
       "</table>\n",
       "<p>50250 rows × 7 columns</p>\n",
       "</div>"
      ],
      "text/plain": [
       "       product_id  location_id                 date  sales_qty  stock_qty  \\\n",
       "0      8000054507   5637146288  2020-06-09 00:00:00        1.0          0   \n",
       "1      8000054507   9000135750  2020-06-13 00:00:00        1.0          1   \n",
       "2      8000054507   5637146288  2020-06-08 00:00:00        1.0          1   \n",
       "3      8000145055   5637146303  2020-06-16 00:00:00        0.0          4   \n",
       "4      9000883500   5637146282  2020-06-15 00:00:00        NaN          4   \n",
       "...           ...          ...                  ...        ...        ...   \n",
       "50245  8000089444   5637149414  2017-04-20 00:00:00        NaN         19   \n",
       "50246  8000089444   5637149414  2017-04-12 00:00:00        NaN         20   \n",
       "50247  8000089444   5637149414  2017-04-06 00:00:00        NaN         21   \n",
       "50248  9000271526   5637145298  2017-09-29 00:00:00        NaN         28   \n",
       "50249  8000089444   5637149414  2017-08-12 00:00:00        NaN          0   \n",
       "\n",
       "           cost  promo  \n",
       "0      717.5000      0  \n",
       "1      717.5000      0  \n",
       "2      717.5000      0  \n",
       "3       83.7728      0  \n",
       "4           NaN      0  \n",
       "...         ...    ...  \n",
       "50245       NaN      1  \n",
       "50246       NaN      1  \n",
       "50247       NaN      1  \n",
       "50248       NaN      1  \n",
       "50249       NaN      1  \n",
       "\n",
       "[50250 rows x 7 columns]"
      ]
     },
     "execution_count": 66,
     "metadata": {},
     "output_type": "execute_result"
    }
   ],
   "source": [
    "resultData"
   ]
  },
  {
   "cell_type": "code",
   "execution_count": 59,
   "id": "79e23ed4",
   "metadata": {
    "ExecuteTime": {
     "end_time": "2023-05-21T11:14:04.531541Z",
     "start_time": "2023-05-21T11:14:04.495123Z"
    }
   },
   "outputs": [
    {
     "data": {
      "text/html": [
       "<div>\n",
       "<style scoped>\n",
       "    .dataframe tbody tr th:only-of-type {\n",
       "        vertical-align: middle;\n",
       "    }\n",
       "\n",
       "    .dataframe tbody tr th {\n",
       "        vertical-align: top;\n",
       "    }\n",
       "\n",
       "    .dataframe thead th {\n",
       "        text-align: right;\n",
       "    }\n",
       "</style>\n",
       "<table border=\"1\" class=\"dataframe\">\n",
       "  <thead>\n",
       "    <tr style=\"text-align: right;\">\n",
       "      <th></th>\n",
       "      <th>product_id</th>\n",
       "      <th>location_id</th>\n",
       "      <th>start_date</th>\n",
       "      <th>end_date</th>\n",
       "    </tr>\n",
       "  </thead>\n",
       "  <tbody>\n",
       "    <tr>\n",
       "      <th>0</th>\n",
       "      <td>8000054507</td>\n",
       "      <td>5637144625</td>\n",
       "      <td>2015-12-21</td>\n",
       "      <td>2015-12-28</td>\n",
       "    </tr>\n",
       "    <tr>\n",
       "      <th>1</th>\n",
       "      <td>8000054507</td>\n",
       "      <td>5637144625</td>\n",
       "      <td>2016-04-04</td>\n",
       "      <td>2016-05-02</td>\n",
       "    </tr>\n",
       "    <tr>\n",
       "      <th>2</th>\n",
       "      <td>8000054507</td>\n",
       "      <td>5637144625</td>\n",
       "      <td>2016-07-11</td>\n",
       "      <td>2016-07-18</td>\n",
       "    </tr>\n",
       "    <tr>\n",
       "      <th>3</th>\n",
       "      <td>8000054507</td>\n",
       "      <td>5637144625</td>\n",
       "      <td>2016-08-29</td>\n",
       "      <td>2016-10-03</td>\n",
       "    </tr>\n",
       "    <tr>\n",
       "      <th>4</th>\n",
       "      <td>8000054507</td>\n",
       "      <td>5637144625</td>\n",
       "      <td>2016-10-31</td>\n",
       "      <td>2017-01-02</td>\n",
       "    </tr>\n",
       "    <tr>\n",
       "      <th>...</th>\n",
       "      <td>...</td>\n",
       "      <td>...</td>\n",
       "      <td>...</td>\n",
       "      <td>...</td>\n",
       "    </tr>\n",
       "    <tr>\n",
       "      <th>3642</th>\n",
       "      <td>9000271526</td>\n",
       "      <td>9000135750</td>\n",
       "      <td>2019-12-16</td>\n",
       "      <td>2020-01-06</td>\n",
       "    </tr>\n",
       "    <tr>\n",
       "      <th>3643</th>\n",
       "      <td>9000271526</td>\n",
       "      <td>9000135750</td>\n",
       "      <td>2020-03-02</td>\n",
       "      <td>2020-03-09</td>\n",
       "    </tr>\n",
       "    <tr>\n",
       "      <th>3644</th>\n",
       "      <td>9000271526</td>\n",
       "      <td>9000136500</td>\n",
       "      <td>2019-11-11</td>\n",
       "      <td>2019-12-02</td>\n",
       "    </tr>\n",
       "    <tr>\n",
       "      <th>3645</th>\n",
       "      <td>9000271526</td>\n",
       "      <td>9000136500</td>\n",
       "      <td>2019-12-16</td>\n",
       "      <td>2020-01-06</td>\n",
       "    </tr>\n",
       "    <tr>\n",
       "      <th>3646</th>\n",
       "      <td>9000271526</td>\n",
       "      <td>9000136500</td>\n",
       "      <td>2020-03-02</td>\n",
       "      <td>2020-03-09</td>\n",
       "    </tr>\n",
       "  </tbody>\n",
       "</table>\n",
       "<p>3647 rows × 4 columns</p>\n",
       "</div>"
      ],
      "text/plain": [
       "      product_id  location_id start_date   end_date\n",
       "0     8000054507   5637144625 2015-12-21 2015-12-28\n",
       "1     8000054507   5637144625 2016-04-04 2016-05-02\n",
       "2     8000054507   5637144625 2016-07-11 2016-07-18\n",
       "3     8000054507   5637144625 2016-08-29 2016-10-03\n",
       "4     8000054507   5637144625 2016-10-31 2017-01-02\n",
       "...          ...          ...        ...        ...\n",
       "3642  9000271526   9000135750 2019-12-16 2020-01-06\n",
       "3643  9000271526   9000135750 2020-03-02 2020-03-09\n",
       "3644  9000271526   9000136500 2019-11-11 2019-12-02\n",
       "3645  9000271526   9000136500 2019-12-16 2020-01-06\n",
       "3646  9000271526   9000136500 2020-03-02 2020-03-09\n",
       "\n",
       "[3647 rows x 4 columns]"
      ]
     },
     "execution_count": 59,
     "metadata": {},
     "output_type": "execute_result"
    }
   ],
   "source": [
    "promo = pd.read_csv('data/DFR_PROMO.csv')[['PRODUCT_ID', 'LOCATION_ID', 'PERIOD_START_DT', 'PERIOD_END_DT']]\n",
    "promo.rename(columns = {'PRODUCT_ID':'product_id', 'LOCATION_ID':'location_id', 'PERIOD_START_DT' : 'start_date', 'PERIOD_END_DT': 'end_date'}, inplace = True)\n",
    "promo['start_date'] = pd.to_datetime(promo['start_date'])\n",
    "promo['end_date'] = pd.to_datetime(promo['end_date'])\n",
    "promo"
   ]
  },
  {
   "cell_type": "code",
   "execution_count": 60,
   "id": "70776c5b",
   "metadata": {
    "ExecuteTime": {
     "end_time": "2023-05-21T11:14:04.853817Z",
     "start_time": "2023-05-21T11:14:04.845397Z"
    }
   },
   "outputs": [],
   "source": [
    "import sqlite3"
   ]
  },
  {
   "cell_type": "code",
   "execution_count": 61,
   "id": "83c1051b",
   "metadata": {
    "ExecuteTime": {
     "end_time": "2023-05-21T11:14:05.205393Z",
     "start_time": "2023-05-21T11:14:05.197302Z"
    }
   },
   "outputs": [],
   "source": [
    "conn = sqlite3.connect(':memory:')"
   ]
  },
  {
   "cell_type": "code",
   "execution_count": 62,
   "id": "76326418",
   "metadata": {
    "ExecuteTime": {
     "end_time": "2023-05-21T11:14:05.713701Z",
     "start_time": "2023-05-21T11:14:05.515762Z"
    }
   },
   "outputs": [
    {
     "data": {
      "text/plain": [
       "3647"
      ]
     },
     "execution_count": 62,
     "metadata": {},
     "output_type": "execute_result"
    }
   ],
   "source": [
    "result.to_sql('result', conn, index=False)\n",
    "promo.to_sql('promo', conn, index=False)\n"
   ]
  },
  {
   "cell_type": "code",
   "execution_count": 63,
   "id": "dd056470",
   "metadata": {
    "ExecuteTime": {
     "end_time": "2023-05-21T11:14:06.324074Z",
     "start_time": "2023-05-21T11:14:05.843952Z"
    }
   },
   "outputs": [],
   "source": [
    "qry = '''\n",
    "    select  \n",
    "        r.product_id,\n",
    "        r.location_id,\n",
    "        r.date,\n",
    "        r.sales_qty,\n",
    "        r.stock_qty,\n",
    "        r.cost,\n",
    "        case\n",
    "            when p.start_date is not null and p.end_date is not null then 1\n",
    "            else 0\n",
    "        end as promo\n",
    "    from result as r\n",
    "    left join promo as p\n",
    "        on r.date between p.start_date and p.end_date \n",
    "        and r.product_id = p.product_id\n",
    "        and r.location_id = p.location_id\n",
    "    '''\n",
    "df = pd.read_sql_query(qry, conn)"
   ]
  },
  {
   "cell_type": "code",
   "execution_count": null,
   "id": "14345458",
   "metadata": {
    "ExecuteTime": {
     "end_time": "2023-05-21T11:14:06.342091Z",
     "start_time": "2023-05-21T11:14:06.342083Z"
    }
   },
   "outputs": [],
   "source": [
    "df = df.drop_duplicates()\n",
    "df['date'] = pd.to_datetime(df['date'])\n",
    "df"
   ]
  },
  {
   "cell_type": "code",
   "execution_count": 64,
   "id": "8f1ed8f6",
   "metadata": {
    "ExecuteTime": {
     "end_time": "2023-05-21T11:14:07.106730Z",
     "start_time": "2023-05-21T11:14:06.943905Z"
    }
   },
   "outputs": [],
   "source": [
    "df.to_csv('resultData.csv', index=False)"
   ]
  },
  {
   "cell_type": "code",
   "execution_count": null,
   "id": "f1be3b70",
   "metadata": {},
   "outputs": [],
   "source": []
  }
 ],
 "metadata": {
  "hide_input": false,
  "kernelspec": {
   "display_name": "Python 3 (ipykernel)",
   "language": "python",
   "name": "python3"
  },
  "language_info": {
   "codemirror_mode": {
    "name": "ipython",
    "version": 3
   },
   "file_extension": ".py",
   "mimetype": "text/x-python",
   "name": "python",
   "nbconvert_exporter": "python",
   "pygments_lexer": "ipython3",
   "version": "3.9.13"
  },
  "toc": {
   "base_numbering": 1,
   "nav_menu": {},
   "number_sections": true,
   "sideBar": true,
   "skip_h1_title": false,
   "title_cell": "Table of Contents",
   "title_sidebar": "Contents",
   "toc_cell": false,
   "toc_position": {},
   "toc_section_display": true,
   "toc_window_display": false
  },
  "varInspector": {
   "cols": {
    "lenName": 16,
    "lenType": 16,
    "lenVar": 40
   },
   "kernels_config": {
    "python": {
     "delete_cmd_postfix": "",
     "delete_cmd_prefix": "del ",
     "library": "var_list.py",
     "varRefreshCmd": "print(var_dic_list())"
    },
    "r": {
     "delete_cmd_postfix": ") ",
     "delete_cmd_prefix": "rm(",
     "library": "var_list.r",
     "varRefreshCmd": "cat(var_dic_list()) "
    }
   },
   "types_to_exclude": [
    "module",
    "function",
    "builtin_function_or_method",
    "instance",
    "_Feature"
   ],
   "window_display": false
  }
 },
 "nbformat": 4,
 "nbformat_minor": 5
}
